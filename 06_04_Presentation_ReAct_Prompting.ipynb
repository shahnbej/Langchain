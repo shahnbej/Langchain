{
  "cells": [
    {
      "cell_type": "markdown",
      "metadata": {
        "id": "view-in-github",
        "colab_type": "text"
      },
      "source": [
        "<a href=\"https://colab.research.google.com/github/shahnbej/Langchain/blob/main/06_04_Presentation_ReAct_Prompting.ipynb\" target=\"_parent\"><img src=\"https://colab.research.google.com/assets/colab-badge.svg\" alt=\"Open In Colab\"/></a>"
      ]
    },
    {
      "cell_type": "code",
      "execution_count": 1,
      "metadata": {
        "id": "r_LXpiKqjeNR",
        "colab": {
          "base_uri": "https://localhost:8080/"
        },
        "collapsed": true,
        "outputId": "73985670-6cdf-4b87-f27c-3270bbc98d27"
      },
      "outputs": [
        {
          "output_type": "stream",
          "name": "stdout",
          "text": [
            "Collecting langchain\n",
            "  Downloading langchain-0.2.10-py3-none-any.whl (990 kB)\n",
            "\u001b[2K     \u001b[90m━━━━━━━━━━━━━━━━━━━━━━━━━━━━━━━━━━━━━━━━\u001b[0m \u001b[32m990.0/990.0 kB\u001b[0m \u001b[31m5.3 MB/s\u001b[0m eta \u001b[36m0:00:00\u001b[0m\n",
            "\u001b[?25hCollecting openai==1.10.0\n",
            "  Downloading openai-1.10.0-py3-none-any.whl (225 kB)\n",
            "\u001b[2K     \u001b[90m━━━━━━━━━━━━━━━━━━━━━━━━━━━━━━━━━━━━━━━━\u001b[0m \u001b[32m225.1/225.1 kB\u001b[0m \u001b[31m6.0 MB/s\u001b[0m eta \u001b[36m0:00:00\u001b[0m\n",
            "\u001b[?25hCollecting langchain-openai\n",
            "  Downloading langchain_openai-0.1.17-py3-none-any.whl (46 kB)\n",
            "\u001b[2K     \u001b[90m━━━━━━━━━━━━━━━━━━━━━━━━━━━━━━━━━━━━━━━━\u001b[0m \u001b[32m46.7/46.7 kB\u001b[0m \u001b[31m4.4 MB/s\u001b[0m eta \u001b[36m0:00:00\u001b[0m\n",
            "\u001b[?25hCollecting langchainhub\n",
            "  Downloading langchainhub-0.1.20-py3-none-any.whl (5.0 kB)\n",
            "Collecting duckduckgo-search\n",
            "  Downloading duckduckgo_search-6.2.1-py3-none-any.whl (26 kB)\n",
            "Collecting wikipedia\n",
            "  Downloading wikipedia-1.4.0.tar.gz (27 kB)\n",
            "  Preparing metadata (setup.py) ... \u001b[?25l\u001b[?25hdone\n",
            "Requirement already satisfied: anyio<5,>=3.5.0 in /usr/local/lib/python3.10/dist-packages (from openai==1.10.0) (3.7.1)\n",
            "Requirement already satisfied: distro<2,>=1.7.0 in /usr/lib/python3/dist-packages (from openai==1.10.0) (1.7.0)\n",
            "Collecting httpx<1,>=0.23.0 (from openai==1.10.0)\n",
            "  Downloading httpx-0.27.0-py3-none-any.whl (75 kB)\n",
            "\u001b[2K     \u001b[90m━━━━━━━━━━━━━━━━━━━━━━━━━━━━━━━━━━━━━━━━\u001b[0m \u001b[32m75.6/75.6 kB\u001b[0m \u001b[31m7.2 MB/s\u001b[0m eta \u001b[36m0:00:00\u001b[0m\n",
            "\u001b[?25hRequirement already satisfied: pydantic<3,>=1.9.0 in /usr/local/lib/python3.10/dist-packages (from openai==1.10.0) (2.8.2)\n",
            "Requirement already satisfied: sniffio in /usr/local/lib/python3.10/dist-packages (from openai==1.10.0) (1.3.1)\n",
            "Requirement already satisfied: tqdm>4 in /usr/local/lib/python3.10/dist-packages (from openai==1.10.0) (4.66.4)\n",
            "Requirement already satisfied: typing-extensions<5,>=4.7 in /usr/local/lib/python3.10/dist-packages (from openai==1.10.0) (4.12.2)\n",
            "Requirement already satisfied: PyYAML>=5.3 in /usr/local/lib/python3.10/dist-packages (from langchain) (6.0.1)\n",
            "Requirement already satisfied: SQLAlchemy<3,>=1.4 in /usr/local/lib/python3.10/dist-packages (from langchain) (2.0.31)\n",
            "Requirement already satisfied: aiohttp<4.0.0,>=3.8.3 in /usr/local/lib/python3.10/dist-packages (from langchain) (3.9.5)\n",
            "Requirement already satisfied: async-timeout<5.0.0,>=4.0.0 in /usr/local/lib/python3.10/dist-packages (from langchain) (4.0.3)\n",
            "Collecting langchain-core<0.3.0,>=0.2.22 (from langchain)\n",
            "  Downloading langchain_core-0.2.22-py3-none-any.whl (373 kB)\n",
            "\u001b[2K     \u001b[90m━━━━━━━━━━━━━━━━━━━━━━━━━━━━━━━━━━━━━━━━\u001b[0m \u001b[32m373.5/373.5 kB\u001b[0m \u001b[31m9.5 MB/s\u001b[0m eta \u001b[36m0:00:00\u001b[0m\n",
            "\u001b[?25hCollecting langchain-text-splitters<0.3.0,>=0.2.0 (from langchain)\n",
            "  Downloading langchain_text_splitters-0.2.2-py3-none-any.whl (25 kB)\n",
            "Collecting langsmith<0.2.0,>=0.1.17 (from langchain)\n",
            "  Downloading langsmith-0.1.93-py3-none-any.whl (139 kB)\n",
            "\u001b[2K     \u001b[90m━━━━━━━━━━━━━━━━━━━━━━━━━━━━━━━━━━━━━━━━\u001b[0m \u001b[32m139.8/139.8 kB\u001b[0m \u001b[31m8.4 MB/s\u001b[0m eta \u001b[36m0:00:00\u001b[0m\n",
            "\u001b[?25hRequirement already satisfied: numpy<2,>=1 in /usr/local/lib/python3.10/dist-packages (from langchain) (1.25.2)\n",
            "Requirement already satisfied: requests<3,>=2 in /usr/local/lib/python3.10/dist-packages (from langchain) (2.31.0)\n",
            "Requirement already satisfied: tenacity!=8.4.0,<9.0.0,>=8.1.0 in /usr/local/lib/python3.10/dist-packages (from langchain) (8.5.0)\n",
            "INFO: pip is looking at multiple versions of langchain-openai to determine which version is compatible with other requirements. This could take a while.\n",
            "Collecting langchain-openai\n",
            "  Downloading langchain_openai-0.1.16-py3-none-any.whl (46 kB)\n",
            "\u001b[2K     \u001b[90m━━━━━━━━━━━━━━━━━━━━━━━━━━━━━━━━━━━━━━━━\u001b[0m \u001b[32m46.1/46.1 kB\u001b[0m \u001b[31m4.3 MB/s\u001b[0m eta \u001b[36m0:00:00\u001b[0m\n",
            "\u001b[?25h  Downloading langchain_openai-0.1.15-py3-none-any.whl (46 kB)\n",
            "\u001b[2K     \u001b[90m━━━━━━━━━━━━━━━━━━━━━━━━━━━━━━━━━━━━━━━━\u001b[0m \u001b[32m46.1/46.1 kB\u001b[0m \u001b[31m4.2 MB/s\u001b[0m eta \u001b[36m0:00:00\u001b[0m\n",
            "\u001b[?25h  Downloading langchain_openai-0.1.14-py3-none-any.whl (45 kB)\n",
            "\u001b[2K     \u001b[90m━━━━━━━━━━━━━━━━━━━━━━━━━━━━━━━━━━━━━━━━\u001b[0m \u001b[32m45.9/45.9 kB\u001b[0m \u001b[31m4.1 MB/s\u001b[0m eta \u001b[36m0:00:00\u001b[0m\n",
            "\u001b[?25h  Downloading langchain_openai-0.1.13-py3-none-any.whl (45 kB)\n",
            "\u001b[2K     \u001b[90m━━━━━━━━━━━━━━━━━━━━━━━━━━━━━━━━━━━━━━━━\u001b[0m \u001b[32m45.9/45.9 kB\u001b[0m \u001b[31m5.2 MB/s\u001b[0m eta \u001b[36m0:00:00\u001b[0m\n",
            "\u001b[?25h  Downloading langchain_openai-0.1.12-py3-none-any.whl (43 kB)\n",
            "\u001b[2K     \u001b[90m━━━━━━━━━━━━━━━━━━━━━━━━━━━━━━━━━━━━━━━━\u001b[0m \u001b[32m43.2/43.2 kB\u001b[0m \u001b[31m5.0 MB/s\u001b[0m eta \u001b[36m0:00:00\u001b[0m\n",
            "\u001b[?25h  Downloading langchain_openai-0.1.11-py3-none-any.whl (40 kB)\n",
            "\u001b[2K     \u001b[90m━━━━━━━━━━━━━━━━━━━━━━━━━━━━━━━━━━━━━━━━\u001b[0m \u001b[32m40.8/40.8 kB\u001b[0m \u001b[31m3.5 MB/s\u001b[0m eta \u001b[36m0:00:00\u001b[0m\n",
            "\u001b[?25h  Downloading langchain_openai-0.1.10-py3-none-any.whl (40 kB)\n",
            "\u001b[2K     \u001b[90m━━━━━━━━━━━━━━━━━━━━━━━━━━━━━━━━━━━━━━━━\u001b[0m \u001b[32m40.6/40.6 kB\u001b[0m \u001b[31m3.7 MB/s\u001b[0m eta \u001b[36m0:00:00\u001b[0m\n",
            "\u001b[?25hINFO: pip is looking at multiple versions of langchain-openai to determine which version is compatible with other requirements. This could take a while.\n",
            "  Downloading langchain_openai-0.1.9-py3-none-any.whl (40 kB)\n",
            "\u001b[2K     \u001b[90m━━━━━━━━━━━━━━━━━━━━━━━━━━━━━━━━━━━━━━━━\u001b[0m \u001b[32m40.3/40.3 kB\u001b[0m \u001b[31m2.9 MB/s\u001b[0m eta \u001b[36m0:00:00\u001b[0m\n",
            "\u001b[?25h  Downloading langchain_openai-0.1.8-py3-none-any.whl (38 kB)\n",
            "  Downloading langchain_openai-0.1.7-py3-none-any.whl (34 kB)\n",
            "  Downloading langchain_openai-0.1.6-py3-none-any.whl (34 kB)\n",
            "  Downloading langchain_openai-0.1.5-py3-none-any.whl (34 kB)\n",
            "INFO: This is taking longer than usual. You might need to provide the dependency resolver with stricter constraints to reduce runtime. See https://pip.pypa.io/warnings/backtracking for guidance. If you want to abort this run, press Ctrl + C.\n",
            "  Downloading langchain_openai-0.1.4-py3-none-any.whl (33 kB)\n",
            "  Downloading langchain_openai-0.1.3-py3-none-any.whl (33 kB)\n",
            "  Downloading langchain_openai-0.1.2-py3-none-any.whl (33 kB)\n",
            "  Downloading langchain_openai-0.1.1-py3-none-any.whl (32 kB)\n",
            "  Downloading langchain_openai-0.0.8-py3-none-any.whl (32 kB)\n",
            "  Downloading langchain_openai-0.0.7-py3-none-any.whl (33 kB)\n",
            "  Downloading langchain_openai-0.0.6-py3-none-any.whl (29 kB)\n",
            "  Downloading langchain_openai-0.0.5-py3-none-any.whl (29 kB)\n",
            "  Downloading langchain_openai-0.0.4-py3-none-any.whl (29 kB)\n",
            "  Downloading langchain_openai-0.0.3-py3-none-any.whl (28 kB)\n",
            "  Downloading langchain_openai-0.0.2.post1-py3-none-any.whl (28 kB)\n",
            "  Downloading langchain_openai-0.0.2-py3-none-any.whl (28 kB)\n",
            "Collecting langchain\n",
            "  Downloading langchain-0.2.9-py3-none-any.whl (987 kB)\n",
            "\u001b[2K     \u001b[90m━━━━━━━━━━━━━━━━━━━━━━━━━━━━━━━━━━━━━━━━\u001b[0m \u001b[32m987.7/987.7 kB\u001b[0m \u001b[31m11.6 MB/s\u001b[0m eta \u001b[36m0:00:00\u001b[0m\n",
            "\u001b[?25h  Downloading langchain-0.2.8-py3-none-any.whl (987 kB)\n",
            "\u001b[2K     \u001b[90m━━━━━━━━━━━━━━━━━━━━━━━━━━━━━━━━━━━━━━━━\u001b[0m \u001b[32m987.6/987.6 kB\u001b[0m \u001b[31m13.8 MB/s\u001b[0m eta \u001b[36m0:00:00\u001b[0m\n",
            "\u001b[?25h  Downloading langchain-0.2.7-py3-none-any.whl (983 kB)\n",
            "\u001b[2K     \u001b[90m━━━━━━━━━━━━━━━━━━━━━━━━━━━━━━━━━━━━━━━━\u001b[0m \u001b[32m983.6/983.6 kB\u001b[0m \u001b[31m16.7 MB/s\u001b[0m eta \u001b[36m0:00:00\u001b[0m\n",
            "\u001b[?25h  Downloading langchain-0.2.6-py3-none-any.whl (975 kB)\n",
            "\u001b[2K     \u001b[90m━━━━━━━━━━━━━━━━━━━━━━━━━━━━━━━━━━━━━━━━\u001b[0m \u001b[32m975.5/975.5 kB\u001b[0m \u001b[31m13.8 MB/s\u001b[0m eta \u001b[36m0:00:00\u001b[0m\n",
            "\u001b[?25h  Downloading langchain-0.2.5-py3-none-any.whl (974 kB)\n",
            "\u001b[2K     \u001b[90m━━━━━━━━━━━━━━━━━━━━━━━━━━━━━━━━━━━━━━━━\u001b[0m \u001b[32m974.6/974.6 kB\u001b[0m \u001b[31m19.4 MB/s\u001b[0m eta \u001b[36m0:00:00\u001b[0m\n",
            "\u001b[?25h  Downloading langchain-0.2.4-py3-none-any.whl (974 kB)\n",
            "\u001b[2K     \u001b[90m━━━━━━━━━━━━━━━━━━━━━━━━━━━━━━━━━━━━━━━━\u001b[0m \u001b[32m974.2/974.2 kB\u001b[0m \u001b[31m22.8 MB/s\u001b[0m eta \u001b[36m0:00:00\u001b[0m\n",
            "\u001b[?25h  Downloading langchain-0.2.3-py3-none-any.whl (974 kB)\n",
            "\u001b[2K     \u001b[90m━━━━━━━━━━━━━━━━━━━━━━━━━━━━━━━━━━━━━━━━\u001b[0m \u001b[32m974.0/974.0 kB\u001b[0m \u001b[31m25.3 MB/s\u001b[0m eta \u001b[36m0:00:00\u001b[0m\n",
            "\u001b[?25h  Downloading langchain-0.2.2-py3-none-any.whl (973 kB)\n",
            "\u001b[2K     \u001b[90m━━━━━━━━━━━━━━━━━━━━━━━━━━━━━━━━━━━━━━━━\u001b[0m \u001b[32m973.6/973.6 kB\u001b[0m \u001b[31m26.0 MB/s\u001b[0m eta \u001b[36m0:00:00\u001b[0m\n",
            "\u001b[?25h  Downloading langchain-0.2.1-py3-none-any.whl (973 kB)\n",
            "\u001b[2K     \u001b[90m━━━━━━━━━━━━━━━━━━━━━━━━━━━━━━━━━━━━━━━━\u001b[0m \u001b[32m973.5/973.5 kB\u001b[0m \u001b[31m27.8 MB/s\u001b[0m eta \u001b[36m0:00:00\u001b[0m\n",
            "\u001b[?25h  Downloading langchain-0.2.0-py3-none-any.whl (973 kB)\n",
            "\u001b[2K     \u001b[90m━━━━━━━━━━━━━━━━━━━━━━━━━━━━━━━━━━━━━━━━\u001b[0m \u001b[32m973.7/973.7 kB\u001b[0m \u001b[31m26.6 MB/s\u001b[0m eta \u001b[36m0:00:00\u001b[0m\n",
            "\u001b[?25hCollecting dataclasses-json<0.7,>=0.5.7 (from langchain)\n",
            "  Downloading dataclasses_json-0.6.7-py3-none-any.whl (28 kB)\n",
            "Collecting langchain\n",
            "  Downloading langchain-0.1.20-py3-none-any.whl (1.0 MB)\n",
            "\u001b[2K     \u001b[90m━━━━━━━━━━━━━━━━━━━━━━━━━━━━━━━━━━━━━━━━\u001b[0m \u001b[32m1.0/1.0 MB\u001b[0m \u001b[31m34.0 MB/s\u001b[0m eta \u001b[36m0:00:00\u001b[0m\n",
            "\u001b[?25hCollecting langchain-community<0.1,>=0.0.38 (from langchain)\n",
            "  Downloading langchain_community-0.0.38-py3-none-any.whl (2.0 MB)\n",
            "\u001b[2K     \u001b[90m━━━━━━━━━━━━━━━━━━━━━━━━━━━━━━━━━━━━━━━━\u001b[0m \u001b[32m2.0/2.0 MB\u001b[0m \u001b[31m27.7 MB/s\u001b[0m eta \u001b[36m0:00:00\u001b[0m\n",
            "\u001b[?25hCollecting langchain-core<0.2.0,>=0.1.52 (from langchain)\n",
            "  Downloading langchain_core-0.1.52-py3-none-any.whl (302 kB)\n",
            "\u001b[2K     \u001b[90m━━━━━━━━━━━━━━━━━━━━━━━━━━━━━━━━━━━━━━━━\u001b[0m \u001b[32m302.9/302.9 kB\u001b[0m \u001b[31m21.7 MB/s\u001b[0m eta \u001b[36m0:00:00\u001b[0m\n",
            "\u001b[?25hCollecting langchain-text-splitters<0.1,>=0.0.1 (from langchain)\n",
            "  Downloading langchain_text_splitters-0.0.2-py3-none-any.whl (23 kB)\n",
            "Collecting tiktoken<1,>=0.5.2 (from langchain-openai)\n",
            "  Downloading tiktoken-0.7.0-cp310-cp310-manylinux_2_17_x86_64.manylinux2014_x86_64.whl (1.1 MB)\n",
            "\u001b[2K     \u001b[90m━━━━━━━━━━━━━━━━━━━━━━━━━━━━━━━━━━━━━━━━\u001b[0m \u001b[32m1.1/1.1 MB\u001b[0m \u001b[31m37.5 MB/s\u001b[0m eta \u001b[36m0:00:00\u001b[0m\n",
            "\u001b[?25hCollecting jsonpatch<2.0,>=1.33 (from langchain-core<0.2.0,>=0.1.52->langchain)\n",
            "  Downloading jsonpatch-1.33-py2.py3-none-any.whl (12 kB)\n",
            "Collecting packaging<24.0,>=23.2 (from langchain-core<0.2.0,>=0.1.52->langchain)\n",
            "  Downloading packaging-23.2-py3-none-any.whl (53 kB)\n",
            "\u001b[2K     \u001b[90m━━━━━━━━━━━━━━━━━━━━━━━━━━━━━━━━━━━━━━━━\u001b[0m \u001b[32m53.0/53.0 kB\u001b[0m \u001b[31m5.1 MB/s\u001b[0m eta \u001b[36m0:00:00\u001b[0m\n",
            "\u001b[?25hCollecting types-requests<3.0.0.0,>=2.31.0.2 (from langchainhub)\n",
            "  Downloading types_requests-2.32.0.20240712-py3-none-any.whl (15 kB)\n",
            "Requirement already satisfied: click>=8.1.7 in /usr/local/lib/python3.10/dist-packages (from duckduckgo-search) (8.1.7)\n",
            "Collecting pyreqwest-impersonate>=0.5.0 (from duckduckgo-search)\n",
            "  Downloading pyreqwest_impersonate-0.5.1-cp38-abi3-manylinux_2_17_x86_64.manylinux2014_x86_64.whl (2.7 MB)\n",
            "\u001b[2K     \u001b[90m━━━━━━━━━━━━━━━━━━━━━━━━━━━━━━━━━━━━━━━━\u001b[0m \u001b[32m2.7/2.7 MB\u001b[0m \u001b[31m46.8 MB/s\u001b[0m eta \u001b[36m0:00:00\u001b[0m\n",
            "\u001b[?25hRequirement already satisfied: beautifulsoup4 in /usr/local/lib/python3.10/dist-packages (from wikipedia) (4.12.3)\n",
            "Requirement already satisfied: aiosignal>=1.1.2 in /usr/local/lib/python3.10/dist-packages (from aiohttp<4.0.0,>=3.8.3->langchain) (1.3.1)\n",
            "Requirement already satisfied: attrs>=17.3.0 in /usr/local/lib/python3.10/dist-packages (from aiohttp<4.0.0,>=3.8.3->langchain) (23.2.0)\n",
            "Requirement already satisfied: frozenlist>=1.1.1 in /usr/local/lib/python3.10/dist-packages (from aiohttp<4.0.0,>=3.8.3->langchain) (1.4.1)\n",
            "Requirement already satisfied: multidict<7.0,>=4.5 in /usr/local/lib/python3.10/dist-packages (from aiohttp<4.0.0,>=3.8.3->langchain) (6.0.5)\n",
            "Requirement already satisfied: yarl<2.0,>=1.0 in /usr/local/lib/python3.10/dist-packages (from aiohttp<4.0.0,>=3.8.3->langchain) (1.9.4)\n",
            "Requirement already satisfied: idna>=2.8 in /usr/local/lib/python3.10/dist-packages (from anyio<5,>=3.5.0->openai==1.10.0) (3.7)\n",
            "Requirement already satisfied: exceptiongroup in /usr/local/lib/python3.10/dist-packages (from anyio<5,>=3.5.0->openai==1.10.0) (1.2.2)\n",
            "Collecting marshmallow<4.0.0,>=3.18.0 (from dataclasses-json<0.7,>=0.5.7->langchain)\n",
            "  Downloading marshmallow-3.21.3-py3-none-any.whl (49 kB)\n",
            "\u001b[2K     \u001b[90m━━━━━━━━━━━━━━━━━━━━━━━━━━━━━━━━━━━━━━━━\u001b[0m \u001b[32m49.2/49.2 kB\u001b[0m \u001b[31m3.9 MB/s\u001b[0m eta \u001b[36m0:00:00\u001b[0m\n",
            "\u001b[?25hCollecting typing-inspect<1,>=0.4.0 (from dataclasses-json<0.7,>=0.5.7->langchain)\n",
            "  Downloading typing_inspect-0.9.0-py3-none-any.whl (8.8 kB)\n",
            "Requirement already satisfied: certifi in /usr/local/lib/python3.10/dist-packages (from httpx<1,>=0.23.0->openai==1.10.0) (2024.7.4)\n",
            "Collecting httpcore==1.* (from httpx<1,>=0.23.0->openai==1.10.0)\n",
            "  Downloading httpcore-1.0.5-py3-none-any.whl (77 kB)\n",
            "\u001b[2K     \u001b[90m━━━━━━━━━━━━━━━━━━━━━━━━━━━━━━━━━━━━━━━━\u001b[0m \u001b[32m77.9/77.9 kB\u001b[0m \u001b[31m3.0 MB/s\u001b[0m eta \u001b[36m0:00:00\u001b[0m\n",
            "\u001b[?25hCollecting h11<0.15,>=0.13 (from httpcore==1.*->httpx<1,>=0.23.0->openai==1.10.0)\n",
            "  Downloading h11-0.14.0-py3-none-any.whl (58 kB)\n",
            "\u001b[2K     \u001b[90m━━━━━━━━━━━━━━━━━━━━━━━━━━━━━━━━━━━━━━━━\u001b[0m \u001b[32m58.3/58.3 kB\u001b[0m \u001b[31m7.1 MB/s\u001b[0m eta \u001b[36m0:00:00\u001b[0m\n",
            "\u001b[?25hCollecting orjson<4.0.0,>=3.9.14 (from langsmith<0.2.0,>=0.1.17->langchain)\n",
            "  Downloading orjson-3.10.6-cp310-cp310-manylinux_2_17_x86_64.manylinux2014_x86_64.whl (141 kB)\n",
            "\u001b[2K     \u001b[90m━━━━━━━━━━━━━━━━━━━━━━━━━━━━━━━━━━━━━━━━\u001b[0m \u001b[32m141.1/141.1 kB\u001b[0m \u001b[31m5.0 MB/s\u001b[0m eta \u001b[36m0:00:00\u001b[0m\n",
            "\u001b[?25hRequirement already satisfied: annotated-types>=0.4.0 in /usr/local/lib/python3.10/dist-packages (from pydantic<3,>=1.9.0->openai==1.10.0) (0.7.0)\n",
            "Requirement already satisfied: pydantic-core==2.20.1 in /usr/local/lib/python3.10/dist-packages (from pydantic<3,>=1.9.0->openai==1.10.0) (2.20.1)\n",
            "Requirement already satisfied: charset-normalizer<4,>=2 in /usr/local/lib/python3.10/dist-packages (from requests<3,>=2->langchain) (3.3.2)\n",
            "Requirement already satisfied: urllib3<3,>=1.21.1 in /usr/local/lib/python3.10/dist-packages (from requests<3,>=2->langchain) (2.0.7)\n",
            "Requirement already satisfied: greenlet!=0.4.17 in /usr/local/lib/python3.10/dist-packages (from SQLAlchemy<3,>=1.4->langchain) (3.0.3)\n",
            "Requirement already satisfied: regex>=2022.1.18 in /usr/local/lib/python3.10/dist-packages (from tiktoken<1,>=0.5.2->langchain-openai) (2024.5.15)\n",
            "Requirement already satisfied: soupsieve>1.2 in /usr/local/lib/python3.10/dist-packages (from beautifulsoup4->wikipedia) (2.5)\n",
            "Collecting jsonpointer>=1.9 (from jsonpatch<2.0,>=1.33->langchain-core<0.2.0,>=0.1.52->langchain)\n",
            "  Downloading jsonpointer-3.0.0-py2.py3-none-any.whl (7.6 kB)\n",
            "Collecting mypy-extensions>=0.3.0 (from typing-inspect<1,>=0.4.0->dataclasses-json<0.7,>=0.5.7->langchain)\n",
            "  Downloading mypy_extensions-1.0.0-py3-none-any.whl (4.7 kB)\n",
            "Building wheels for collected packages: wikipedia\n",
            "  Building wheel for wikipedia (setup.py) ... \u001b[?25l\u001b[?25hdone\n",
            "  Created wheel for wikipedia: filename=wikipedia-1.4.0-py3-none-any.whl size=11680 sha256=67a3db27b2bbc9d30d5db9f7d135d8c9b2c43bd4e87c459d0541f7baa5823546\n",
            "  Stored in directory: /root/.cache/pip/wheels/5e/b6/c5/93f3dec388ae76edc830cb42901bb0232504dfc0df02fc50de\n",
            "Successfully built wikipedia\n",
            "Installing collected packages: types-requests, pyreqwest-impersonate, packaging, orjson, mypy-extensions, jsonpointer, h11, wikipedia, typing-inspect, tiktoken, marshmallow, langchainhub, jsonpatch, httpcore, duckduckgo-search, langsmith, httpx, dataclasses-json, openai, langchain-core, langchain-text-splitters, langchain-openai, langchain-community, langchain\n",
            "  Attempting uninstall: packaging\n",
            "    Found existing installation: packaging 24.1\n",
            "    Uninstalling packaging-24.1:\n",
            "      Successfully uninstalled packaging-24.1\n",
            "Successfully installed dataclasses-json-0.6.7 duckduckgo-search-6.2.1 h11-0.14.0 httpcore-1.0.5 httpx-0.27.0 jsonpatch-1.33 jsonpointer-3.0.0 langchain-0.1.20 langchain-community-0.0.38 langchain-core-0.1.52 langchain-openai-0.1.5 langchain-text-splitters-0.0.2 langchainhub-0.1.20 langsmith-0.1.93 marshmallow-3.21.3 mypy-extensions-1.0.0 openai-1.10.0 orjson-3.10.6 packaging-23.2 pyreqwest-impersonate-0.5.1 tiktoken-0.7.0 types-requests-2.32.0.20240712 typing-inspect-0.9.0 wikipedia-1.4.0\n"
          ]
        }
      ],
      "source": [
        "%%capture\n",
        "!pip install langchain openai==1.10.0 langchain-openai langchainhub duckduckgo-search wikipedia"
      ]
    },
    {
      "cell_type": "code",
      "execution_count": 2,
      "metadata": {
        "colab": {
          "base_uri": "https://localhost:8080/"
        },
        "id": "vqPhjnvkk6oS",
        "outputId": "b42798d6-9b3a-431d-8b1f-8cf216f01ab5"
      },
      "outputs": [
        {
          "name": "stdout",
          "output_type": "stream",
          "text": [
            "Enter Your OpenAI API Key:··········\n"
          ]
        }
      ],
      "source": [
        "import os\n",
        "import getpass\n",
        "\n",
        "os.environ[\"OPENAI_API_KEY\"] = getpass.getpass(\"Enter Your OpenAI API Key:\")"
      ]
    },
    {
      "cell_type": "markdown",
      "metadata": {
        "id": "-sYuYFUvk-V6"
      },
      "source": [
        "# **ReAct Prompting Framework Overview**\n",
        "\n",
        "The ReAct framework was [introduced in a 2022 paper, ReAct: Synergizing Reasoning and Acting in Language Models, by researchers at Google](https://blog.research.google/2022/11/react-synergizing-reasoning-and-acting.html).\n",
        "\n",
        "### 🌐 **ReAct (Reasoning + Acting) Explained**\n",
        "\n",
        "- Blends reasoning with action in language models.\n",
        "\n",
        "- Generates reasoning traces alongside task-specific actions.\n",
        "\n",
        "### 🔗 **Capabilities of ReAct**\n",
        "\n",
        "1. 🔄 **Interleaved Reasoning and Acting**: Fuses reasoning with actions for fluid updates.\n",
        "\n",
        "2. 🌍 **External Interactions**: Accesses external sources like Wikipedia for more info.\n",
        "\n",
        "3. 🧑‍🎨 **Human-like Problem Solving**: Offers easy-to-follow, logical trajectories.\n",
        "\n",
        "4. 🛠️ **Wide-Ranging Use Cases**: Ideal for varied tasks like QA, text games, web browsing.\n",
        "\n",
        "<figure>\n",
        "  <img src=\"https://ar5iv.labs.arxiv.org/html/2210.03629/assets/x1.png\" alt=\"Image Description\" style=\"width:100%\">\n",
        "  <figcaption>Comparison of four prompting methods, (a) Standard, (b) Chain-of-thought (CoT, Reason Only), (c) Act-only, and (d) (Reason+Act), solving a HotpotQA question. (2) Comparison of (a) Act-only and (b) prompting methods to solve an interactive AlfWorld task. In both domains, the initial prompts of in-context examples are ommitted, and only show task solving trajectories generated by the model (Act, Thought) and the environment (Obs).</figcaption>\n",
        "  <a href=\"https://ar5iv.labs.arxiv.org/html/2210.03629\">Image Source</a>\n",
        "</figure>\n",
        "\n",
        "\n",
        "### 🌟 **Why ReAct Stands Out**\n",
        "\n",
        "1. **Balanced Emphasis on Reasoning & Acting**: Surpasses models limited to just reasoning or action.\n",
        "\n",
        "2. **Engages with External Data**: Pulls in real-time info for better accuracy.\n",
        "\n",
        "3. **Boosted Transparency**: Step-by-step approach clarifies decision-making.\n",
        "\n",
        "\n",
        "# 🤖 **Overview of ReAct in LangChain**\n",
        "\n",
        "- ReAct is an agent type in LangChain.\n",
        "\n",
        "- It uses the ReAct framework to pick tools based on their descriptions.\n",
        "\n",
        "- Useful for chatbots, document question answering, etc.\n",
        "\n",
        "- Context-aware for better response generation.\n",
        "\n",
        "## 🚀 **Steps to Implement an Agent**\n",
        "\n",
        "1. ✍️ **Prompt Template Creation**: Guide the agent on tasks and output formatting.\n",
        "\n",
        "2. 🧩 **Output Parser Definition**: Convert LLM output into actionable responses.\n",
        "\n",
        "3. 🧠 **LLM Setup**: Choose the preferred language model.\n",
        "\n",
        "4. 🛑 **Stop Sequence Definition**: Instruct the LLM when to stop output.\n",
        "\n",
        "5. 🤹 **Agent Setup**: Merge LLM, prompt template, output parser, and stop sequence.\n",
        "\n",
        "6. 🏃 **Agent Usage**: Operate the agent using an executor with user inputs."
      ]
    },
    {
      "cell_type": "code",
      "execution_count": 3,
      "metadata": {
        "id": "xkAmX2VCoTug"
      },
      "outputs": [],
      "source": [
        "from langchain_openai import OpenAI, ChatOpenAI\n",
        "from langchain import hub\n",
        "from langchain.agents import Tool, AgentExecutor, create_react_agent\n",
        "from langchain_community.tools import DuckDuckGoSearchResults\n",
        "from langchain import Wikipedia"
      ]
    },
    {
      "cell_type": "code",
      "execution_count": 4,
      "metadata": {
        "id": "XOUua9vinI_L"
      },
      "outputs": [],
      "source": [
        "search = DuckDuckGoSearchResults()\n",
        "\n",
        "search_tool = Tool(\n",
        "    name=\"Current Event Search\",\n",
        "    description = \"Useful for when you need to search about current events.\",\n",
        "    func=search.run\n",
        ")\n",
        "\n",
        "wiki = Wikipedia()\n",
        "\n",
        "wiki_tool = Tool(\n",
        "    name=\"Noun Search\",\n",
        "    description = \"Useful for when you need to search for information about nouns.\",\n",
        "    func=wiki.search,\n",
        ")\n",
        "\n",
        "tool_belt = [search_tool, wiki_tool]"
      ]
    },
    {
      "cell_type": "code",
      "execution_count": 5,
      "metadata": {
        "id": "ajkuMFWkoRvl"
      },
      "outputs": [],
      "source": [
        "from langchain import hub\n",
        "prompt = hub.pull(\"hwchase17/react\")"
      ]
    },
    {
      "cell_type": "code",
      "source": [
        "prompt.input_variables"
      ],
      "metadata": {
        "colab": {
          "base_uri": "https://localhost:8080/"
        },
        "id": "Vm00r5zYK0Lj",
        "outputId": "b4c83ffe-992b-4810-ffd1-0ac1eca9fced"
      },
      "execution_count": 7,
      "outputs": [
        {
          "output_type": "execute_result",
          "data": {
            "text/plain": [
              "['agent_scratchpad', 'input', 'tool_names', 'tools']"
            ]
          },
          "metadata": {},
          "execution_count": 7
        }
      ]
    },
    {
      "cell_type": "code",
      "source": [
        "prompt.template"
      ],
      "metadata": {
        "colab": {
          "base_uri": "https://localhost:8080/",
          "height": 108
        },
        "id": "mEZX8eToLBAU",
        "outputId": "13e5c85e-4cb3-4f0c-d586-b3e3a7d39f82"
      },
      "execution_count": 8,
      "outputs": [
        {
          "output_type": "execute_result",
          "data": {
            "text/plain": [
              "'Answer the following questions as best you can. You have access to the following tools:\\n\\n{tools}\\n\\nUse the following format:\\n\\nQuestion: the input question you must answer\\nThought: you should always think about what to do\\nAction: the action to take, should be one of [{tool_names}]\\nAction Input: the input to the action\\nObservation: the result of the action\\n... (this Thought/Action/Action Input/Observation can repeat N times)\\nThought: I now know the final answer\\nFinal Answer: the final answer to the original input question\\n\\nBegin!\\n\\nQuestion: {input}\\nThought:{agent_scratchpad}'"
            ],
            "application/vnd.google.colaboratory.intrinsic+json": {
              "type": "string"
            }
          },
          "metadata": {},
          "execution_count": 8
        }
      ]
    },
    {
      "cell_type": "code",
      "execution_count": 9,
      "metadata": {
        "colab": {
          "base_uri": "https://localhost:8080/"
        },
        "id": "7FaM14BfL3DC",
        "outputId": "fd0fe818-5608-4b1b-b372-21447e88f331"
      },
      "outputs": [
        {
          "output_type": "stream",
          "name": "stdout",
          "text": [
            "Answer the following questions as best you can. You have access to the following tools:\n",
            "\n",
            "{tools}\n",
            "\n",
            "Use the following format:\n",
            "\n",
            "Question: the input question you must answer\n",
            "Thought: you should always think about what to do\n",
            "Action: the action to take, should be one of [{tool_names}]\n",
            "Action Input: the input to the action\n",
            "Observation: the result of the action\n",
            "... (this Thought/Action/Action Input/Observation can repeat N times)\n",
            "Thought: I now know the final answer\n",
            "Final Answer: the final answer to the original input question\n",
            "\n",
            "Begin!\n",
            "\n",
            "Question: {input}\n",
            "Thought:{agent_scratchpad}\n"
          ]
        }
      ],
      "source": [
        "print(prompt.template)"
      ]
    },
    {
      "cell_type": "code",
      "execution_count": null,
      "metadata": {
        "colab": {
          "base_uri": "https://localhost:8080/"
        },
        "id": "8vrQ7R1Op9jx",
        "outputId": "19f0c8bd-fbe2-4eaf-d5f5-6bb8b7a4da92"
      },
      "outputs": [
        {
          "output_type": "execute_result",
          "data": {
            "text/plain": [
              "['agent_scratchpad', 'input', 'tool_names', 'tools']"
            ]
          },
          "metadata": {},
          "execution_count": 9
        }
      ],
      "source": [
        "prompt.input_variables"
      ]
    },
    {
      "cell_type": "code",
      "execution_count": 10,
      "metadata": {
        "id": "fLr1rrtMp9rc"
      },
      "outputs": [],
      "source": [
        "llm = ChatOpenAI(model=\"gpt-3.5-turbo\", temperature=0.0)"
      ]
    },
    {
      "cell_type": "code",
      "execution_count": 12,
      "metadata": {
        "id": "k85y4bSAqAc3"
      },
      "outputs": [],
      "source": [
        "agent = create_react_agent(llm, tool_belt, prompt)"
      ]
    },
    {
      "cell_type": "code",
      "execution_count": 14,
      "metadata": {
        "id": "DlmR-MfzqCOw"
      },
      "outputs": [],
      "source": [
        "agent_executor = AgentExecutor(agent=agent,\n",
        "                               tools=tool_belt,\n",
        "                               verbose=True,\n",
        "                               handle_parsing_errors=True)"
      ]
    },
    {
      "cell_type": "code",
      "source": [
        "agent_executor.invoke({\"input\":\"who is playing in the Super Bowl in 2025? where will it be played?\"})"
      ],
      "metadata": {
        "colab": {
          "base_uri": "https://localhost:8080/"
        },
        "id": "UcTUfAjsMebF",
        "outputId": "f31c21c1-d5aa-4fbc-8694-e17573e794c9"
      },
      "execution_count": 15,
      "outputs": [
        {
          "output_type": "stream",
          "name": "stdout",
          "text": [
            "\n",
            "\n",
            "\u001b[1m> Entering new AgentExecutor chain...\u001b[0m\n",
            "\u001b[32;1m\u001b[1;3mI should use the Current Event Search tool to find information about the Super Bowl in 2025.\n",
            "Action: Current Event Search\n",
            "Action Input: Super Bowl 2025 teams and location\u001b[0m\u001b[36;1m\u001b[1;3m[snippet: Where is 2025 Super Bowl? Date: Sunday, Feb. 9 | Time: 6:30 p.m. ET Location: Caesars Superdome (New Orleans) TV: Fox | Stream: fubo The Superdome is an important location for the people of the city, title: Where is Super Bowl 2025? Date, time, location, stadium, logo revealed ..., link: https://www.cbssports.com/nfl/news/where-is-super-bowl-2025-date-time-location-stadium-logo-revealed-and-more-for-super-bowl-lix/], [snippet: Super Bowl Locations and Dates. Super Bowl LIX: Feb. 9, 2025 - Caesars Superdome (New Orleans, LA), home of the New Orleans Saints; Super Bowl LX: Feb. 8, 2026 - Levi's Stadium (Santa Clara, CA ..., title: Super Bowl locations, dates for 2025, 2026, 2027 | FOX Sports, link: https://www.foxsports.com/stories/nfl/super-bowl-locations-dates], [snippet: Year: Host city, stadium, Super Bowl game: 2024: New Orleans, Caesars Superdome, Super Bowl 59: 2025: Santa Clara, California, Levi's Stadium, Super Bowl 60, title: When and where is Super Bowl 2025? Date, location, early odds for Super ..., link: https://www.sportingnews.com/us/nfl/news/when-and-where-super-bowl-2025-date-location-early-odds-59/831f5c1815b3a46caf65ff84], [snippet: In addition to seven Super Bowls (1978, '81, '86, '90, '97, 2002, '13), other notable events hosted here include the Sugar Bowl, the New Orleans Bowl, and the BCS National Championship four times., title: Future Super Bowl locations: Host cities, stadiums for Super Bowl 2025 ..., link: https://www.sportingnews.com/us/nfl/news/future-super-bowl-locations-host-cities-stadiums/a7ce401d26f867de92fd342d]\u001b[0m\u001b[32;1m\u001b[1;3mI should search for the teams playing in the Super Bowl in 2025.\n",
            "Action: Current Event Search\n",
            "Action Input: Super Bowl 2025 teams\u001b[0m\u001b[36;1m\u001b[1;3m[snippet: Where is 2025 Super Bowl? Date: Sunday, Feb. 9 | Time: 6:30 p.m. ET Location: Caesars Superdome (New Orleans) TV: Fox | Stream: fubo The Superdome is an important location for the people of the city, title: Where is Super Bowl 2025? Date, time, location, stadium, logo revealed ..., link: https://www.cbssports.com/nfl/news/where-is-super-bowl-2025-date-time-location-stadium-logo-revealed-and-more-for-super-bowl-lix/], [snippet: 2025 Super Bowl LIX odds: 49ers, Chiefs co-favorites as players report to camp NFL roster rankings: Loaded 49ers lead top-10 teams for 2024 NFL Comeback Player of the Year odds: Rodgers favored ..., title: Super Bowl locations, dates for 2025, 2026, 2027 | FOX Sports, link: https://www.foxsports.com/stories/nfl/super-bowl-locations-dates], [snippet: NFL power rankings: Super Bowl 2025 odds. 1. Kansas City Chiefs (+600) The reigning Super Bowl champions sit atop this list once again. This offseason, they signed tight end Travis Kelce to an ..., title: NFL power rankings: Ranking every team by their 2025 Super Bowl odds, link: https://www.usatoday.com/story/sports/nfl/2024/06/10/nfl-power-rankings-2025-super-bowl-odds/74042938007/], [snippet: The Caesars Superdome, home of the New Orleans Saints, will host Super Bowl LIX on Feb. 9, 2025. (Tyler Kaufman / Associated Press) Super Bowl LVIII may have just ended, but that doesn't mean it ..., title: When and where will Super Bowl LIX be played in 2025?, link: https://www.latimes.com/sports/story/2024-02-11/when-and-where-will-super-bowl-lix-be-played-2025]\u001b[0m\u001b[32;1m\u001b[1;3mI now know the final answer\n",
            "Final Answer: The Super Bowl in 2025 will be played at Caesars Superdome in New Orleans. The teams playing are not specified in the search results.\u001b[0m\n",
            "\n",
            "\u001b[1m> Finished chain.\u001b[0m\n"
          ]
        },
        {
          "output_type": "execute_result",
          "data": {
            "text/plain": [
              "{'input': 'who is playing in the Super Bowl in 2025? where will it be played?',\n",
              " 'output': 'The Super Bowl in 2025 will be played at Caesars Superdome in New Orleans. The teams playing are not specified in the search results.'}"
            ]
          },
          "metadata": {},
          "execution_count": 15
        }
      ]
    },
    {
      "cell_type": "code",
      "execution_count": null,
      "metadata": {
        "colab": {
          "base_uri": "https://localhost:8080/"
        },
        "id": "yjhCr5y5qCVq",
        "outputId": "5088a838-29d2-45e7-84e4-ee937f0ff275"
      },
      "outputs": [
        {
          "output_type": "stream",
          "name": "stdout",
          "text": [
            "\n",
            "\n",
            "\u001b[1m> Entering new AgentExecutor chain...\u001b[0m\n",
            "\u001b[32;1m\u001b[1;3mI should use the Current Event Search tool to find information about the Super Bowl in 2024.\n",
            "Action: Current Event Search\n",
            "Action Input: Super Bowl 2024 teams\u001b[0m\u001b[36;1m\u001b[1;3m[snippet: The Chiefs and the 49ers will face each other for the second time in five years in Super Bowl 58 at Allegiant Stadium. Find out the date, time, TV channel, odds, spread and history of the teams in the big game., title: Who is in Super Bowl 2024? Here are the teams, odds & spread for Super ..., link: https://www.sportingnews.com/us/nfl/news/super-bowl-2024-teams-odds-spread/6ab6d31aea034ba606eb3c06], [snippet: The Kansas City Chiefs and the San Francisco 49ers will face each other in Super Bowl 2024, a repeat of Super Bowl LIV. Find out how they got there, their previous Super Bowl titles, and how to watch the game live on CBS or Paramount+., title: Who is playing in Super Bowl 2024? - NBC Sports, link: https://www.nbcsports.com/nfl/news/who-is-playing-in-super-bowl-2024], [snippet: The matchup for Super Bowl 58 is set, as the AFC's Kansas City Chiefs will be taking on the NFC's San Francisco 49ers on Feb. 11 in Las Vegas. Although we finally know which teams will be playing in Super Bowl 58, many people are wondering who the home team will be when these two meet for the NFL 's most prestigious prize., title: Who Is the Home Team in Super Bowl 58? How It's Determined, History ..., link: https://www.profootballnetwork.com/who-is-home-team-super-bowl-58-nfl-2024/], [snippet: The Kansas City Chiefs and the San Francisco 49ers will face each other in Super Bowl 58 on Feb. 11 at Allegiant Stadium in Las Vegas. The Chiefs are defending their title, while the 49ers are seeking their first championship since 1995., title: Who is in Super Bowl 2024? Chiefs-49ers matchup and everything to know, link: https://www.usatoday.com/story/sports/nfl/super-bowl/2024/01/28/super-bowl-58-teams-path-matchups-odds/72359124007/]\u001b[0m\u001b[32;1m\u001b[1;3mI should also find out where the Super Bowl in 2024 will be played.\n",
            "Action: Current Event Search\n",
            "Action Input: Super Bowl 2024 location\u001b[0m\u001b[36;1m\u001b[1;3m[snippet: Super Bowl LVIII will take place on Sunday, February 11 at Allegiant Stadium in Las Vegas, Nevada. Find out how to watch, stream, and get the latest news on the Chiefs vs 49ers game, the halftime show, the national anthem, and more., title: Where is the 2024 Super Bowl: Location, Date, kick off time and more ..., link: https://www.nbcsports.com/nfl/news/where-is-the-2024-super-bowl-location-date-kick-off-time-and-more-for-chiefs-vs-49ers-game], [snippet: Super Bowl 58 will be the first time the game is played in Nevada, at Allegiant Stadium, home of the Raiders. Find out the future locations of the Super Bowl through 2027, from New Orleans to Los Angeles., title: Where is the Super Bowl in 2024? Location, city, stadium for Super Bowl ..., link: https://www.sportingnews.com/us/nfl/news/super-bowl-2024-location-city-stadium/d8a0377f75a677157495505c], [snippet: The 2024 Super Bowl will take place at Allegiant Stadium, home of the Las Vegas Raiders, on Feb. 11. Find out how to watch the game on TV or stream, the halftime performer, the stadium features and more., title: Where is 2024 Super Bowl? 49ers vs. Chiefs time, date, where, when ..., link: https://www.cbssports.com/nfl/news/where-is-2024-super-bowl-49ers-vs-chiefs-time-date-where-when-stadium-location-streaming-tv-channel/], [snippet: Super Bowl LVIII will be played at Allegiant Stadium in Las Vegas, Nevada on Sunday, February 11, 2024. Find out more about the game, the venue, and the events happening during Super Bowl week in Las Vegas., title: Super Bowl LVIII - Event Info Overview - NFL.com, link: https://www.nfl.com/news/super-bowl-lviii-event-info-overview]\u001b[0m\u001b[32;1m\u001b[1;3mI now know the final answer.\n",
            "Final Answer: The Kansas City Chiefs and the San Francisco 49ers will be playing in Super Bowl 2024 at Allegiant Stadium in Las Vegas.\u001b[0m\n",
            "\n",
            "\u001b[1m> Finished chain.\u001b[0m\n"
          ]
        },
        {
          "output_type": "execute_result",
          "data": {
            "text/plain": [
              "{'input': 'Who is playing in the Super Bowl in 2024? Where will it be played?',\n",
              " 'output': 'The Kansas City Chiefs and the San Francisco 49ers will be playing in Super Bowl 2024 at Allegiant Stadium in Las Vegas.'}"
            ]
          },
          "metadata": {},
          "execution_count": 17
        }
      ],
      "source": [
        "agent_executor.invoke({\"input\":\"Who is playing in the Super Bowl in 2024? Where will it be played?\"})"
      ]
    },
    {
      "cell_type": "code",
      "source": [
        "agent_executor.invoke({\"input\":\"Who is playing in the football world cup opening game in 2024? Where will it be played?\"})"
      ],
      "metadata": {
        "colab": {
          "base_uri": "https://localhost:8080/"
        },
        "id": "RQoBZHTN46UU",
        "outputId": "248cbc3a-d92d-41b8-ee96-e56ba264d9f3"
      },
      "execution_count": null,
      "outputs": [
        {
          "output_type": "stream",
          "name": "stdout",
          "text": [
            "\n",
            "\n",
            "\u001b[1m> Entering new AgentExecutor chain...\u001b[0m\n",
            "\u001b[32;1m\u001b[1;3mI should use the Current Event Search tool to find information about the 2024 football world cup opening game.\n",
            "Action: Current Event Search\n",
            "Action Input: 2024 football world cup opening game details\u001b[0m\u001b[36;1m\u001b[1;3m[snippet: Discover the 48 teams taking part in the FIFA World Cup 2026 Canada, Mexico, USA™, including host cities, game dates and qualifiers. Learn more with FIFA., title: FIFA World Cup 2026™ | Host Cities, Dates, Teams & more, link: https://www.fifa.com/en/tournaments/mens/worldcup/canadamexicousa2026/articles/fifa-world-cup-2026-hosts-cities-dates-usa-mexico-canada], [snippet: FIFA World Cup 2026 match schedule to be announced on 4 February, title: FIFA World Cup 2026 match schedule to be announced on 4 February, link: https://www.fifa.com/en/tournaments/mens/worldcup/canadamexicousa2026/articles/match-schedule-to-be-announced-4-february-2024], [snippet: Mexico City: Azteca Stadium gets the opening game of the FIFA World Cup, to be played on June 11, 2026. Mexico will play at home in that game against an opponent to be named in the future. Mexico City gets three Group Stage games in total, as well as one Round of 32 game, and one Round of 16 match. Miami: The city will host four Group Stage games., title: FIFA reveals World Cup 2026 match details for each host city, link: https://worldsoccertalk.com/news/fifa-reveals-world-cup-2026-match-details-for-each-host-city-20240204-WST-487508.html], [snippet: The World Cup is set to break new ground in 2026 as FIFA continues to expand and develop its showpiece tournament. The 2022 World Cup in Qatar was unlike any other, being held over the winter due t…, title: World Cup 2026: Dates - talkSPORT, link: https://talksport.com/football/1204605/world-cup-2026-dates-schedule-kick-off-times-format-host-nations-location-usa-mexico-canada-stadiums/]\u001b[0m\u001b[32;1m\u001b[1;3mI should focus on the information about the 2024 football world cup opening game.\n",
            "Action: Current Event Search\n",
            "Action Input: 2024 football world cup opening game details\u001b[0m\u001b[36;1m\u001b[1;3m[snippet: Discover the 48 teams taking part in the FIFA World Cup 2026 Canada, Mexico, USA™, including host cities, game dates and qualifiers. Learn more with FIFA., title: FIFA World Cup 2026™ | Host Cities, Dates, Teams & more, link: https://www.fifa.com/en/tournaments/mens/worldcup/canadamexicousa2026/articles/fifa-world-cup-2026-hosts-cities-dates-usa-mexico-canada], [snippet: Mexico City: Azteca Stadium gets the opening game of the FIFA World Cup, to be played on June 11, 2026. Mexico will play at home in that game against an opponent to be named in the future. Mexico City gets three Group Stage games in total, as well as one Round of 32 game, and one Round of 16 match. Miami: The city will host four Group Stage games., title: FIFA reveals World Cup 2026 match details for each host city, link: https://worldsoccertalk.com/news/fifa-reveals-world-cup-2026-match-details-for-each-host-city-20240204-WST-487508.html], [snippet: Soccer fans buzzing about 2026 World Cup at MetLife 02:03. NEW YORK - The world's biggest game is coming to New Jersey.. The 2026 FIFA World Cup final will be played at MetLife Stadium, officials ..., title: How to get tickets for World Cup 2026 - CBS News, link: https://www.cbsnews.com/newyork/news/fifa-world-cup-2026-how-to-get-tickets-and-other-frequently-asked-questions/], [snippet: February 4, 2024 9:15 PM EST. FIFA just revealed all the match dates and locations of the biggest-ever men's World Cup, to be played across Mexico, Canada, and the United States in 2026. In the ..., title: FIFA Reveals 2026 World Cup Schedule: What to Know | TIME, link: https://time.com/6660488/fifa-world-cup-2026-full-schedule-locations-us-mexico-canada/]\u001b[0m\u001b[32;1m\u001b[1;3mI should focus on the specific details about the 2024 football world cup opening game.\n",
            "Action: Current Event Search\n",
            "Action Input: 2024 football world cup opening game details\u001b[0m\u001b[36;1m\u001b[1;3m[snippet: Discover the 48 teams taking part in the FIFA World Cup 2026 Canada, Mexico, USA™, including host cities, game dates and qualifiers. Learn more with FIFA., title: FIFA World Cup 2026™ | Host Cities, Dates, Teams & more, link: https://www.fifa.com/en/tournaments/mens/worldcup/canadamexicousa2026/articles/fifa-world-cup-2026-hosts-cities-dates-usa-mexico-canada], [snippet: Go to the comments section Add to your bookmarks Share this article. The host city details for the 2026 World Cup have been released, with the location of the final, opening game and more announced. MetLife Stadium in New Jersey will host the final on 19 July. It will be the first time for both the stadium and city, with the Rose Bowl in ..., title: 2026 World Cup opening game ... - OneFootball, link: https://onefootball.com/en/news/2026-world-cup-opening-game-final-venue-and-more-announced-38993974], [snippet: Mexico City: Azteca Stadium gets the opening game of the FIFA World Cup, to be played on June 11, 2026. Mexico will play at home in that game against an opponent to be named in the future. Mexico City gets three Group Stage games in total, as well as one Round of 32 game, and one Round of 16 match. Miami: The city will host four Group Stage games., title: FIFA reveals World Cup 2026 match details for each host city, link: https://worldsoccertalk.com/news/fifa-reveals-world-cup-2026-match-details-for-each-host-city-20240204-WST-487508.html], [snippet: February 4, 2024 9:15 PM EST. FIFA just revealed all the match dates and locations of the biggest-ever men's World Cup, to be played across Mexico, Canada, and the United States in 2026. In the ..., title: FIFA Reveals 2026 World Cup Schedule: What to Know | TIME, link: https://time.com/6660488/fifa-world-cup-2026-full-schedule-locations-us-mexico-canada/]\u001b[0m\u001b[32;1m\u001b[1;3mI now know the final answer\n",
            "Final Answer: The opening game of the 2024 football world cup will be played at Azteca Stadium in Mexico City on June 11, 2026.\u001b[0m\n",
            "\n",
            "\u001b[1m> Finished chain.\u001b[0m\n"
          ]
        },
        {
          "output_type": "execute_result",
          "data": {
            "text/plain": [
              "{'input': 'Who is playing in the football world cup opening game in 2024? Where will it be played?',\n",
              " 'output': 'The opening game of the 2024 football world cup will be played at Azteca Stadium in Mexico City on June 11, 2026.'}"
            ]
          },
          "metadata": {},
          "execution_count": 18
        }
      ]
    },
    {
      "cell_type": "code",
      "source": [
        "agent_executor.invoke({\"input\":\"who is playing first match of ODI cricket world cup and when will it be played?\"})"
      ],
      "metadata": {
        "colab": {
          "base_uri": "https://localhost:8080/"
        },
        "id": "aXc3S3D56VWz",
        "outputId": "c94b5215-d436-4b5d-a898-9e9647372fa4"
      },
      "execution_count": null,
      "outputs": [
        {
          "output_type": "stream",
          "name": "stdout",
          "text": [
            "\n",
            "\n",
            "\u001b[1m> Entering new AgentExecutor chain...\u001b[0m\n",
            "\u001b[32;1m\u001b[1;3mI should search for the current event related to the ODI cricket world cup.\n",
            "Action: Current Event Search\n",
            "Action Input: ODI cricket world cup first match\u001b[0m\u001b[36;1m\u001b[1;3m[snippet: In 1975 the first Cricket World Cup was contested in England as a series of one-day matches of 60 overs per side. It was held outside England, in India and Pakistan, for the first time in 1987. The 1987 contest also saw the number of overs per side reduced to 50. In 2007 Australia became the first team to win three consecutive World Cup ..., title: Cricket World Cup | History, Winners, & Facts | Britannica, link: https://www.britannica.com/sports/Cricket-World-Cup], [snippet: A One Day International (ODI) is a form of 50 overs limited overs cricket, played between two teams with international status, in which each team faces a fixed number of overs, currently 50, with the game lasting up to 7 hours. The Cricket World Cup, generally held every four years, is played in this format.One Day International matches are also called Limited Overs Internationals (LOI ..., title: One Day International - Wikipedia, link: https://en.wikipedia.org/wiki/One_Day_International], [snippet: Cricket World Cup Winners List: Check out the latest list of ICC Cricket World Cup winners from 1975 until 2023, including runners-up, venue, player of series, man of the match, most ODI World Cup ..., title: ODI Cricket World Cup Winners List from 1975 to 2023, link: https://www.crictracker.com/world-cup-winners-and-runners-list/], [snippet: The heart and soul of ICC Championships — the ODI Men's Cricket World Cup — will be held in India from October 5 to November 19. Organised every four years by the International Cricket Council ..., title: When was the first ODI Cricket Word Cup? - Sporting News, link: https://www.sportingnews.com/us/cricket/news/first-cricket-world-cup-history-winners-list-tournament-2023-odi/uzyhss1uo97tvfozvoxd32ia]\u001b[0m\u001b[32;1m\u001b[1;3mI need to find the specific details about the first match of the ODI Cricket World Cup.\n",
            "Action: Current Event Search\n",
            "Action Input: ODI Cricket World Cup first match details\u001b[0m\u001b[36;1m\u001b[1;3m[snippet: In 1975 the first Cricket World Cup was contested in England as a series of one-day matches of 60 overs per side. It was held outside England, in India and Pakistan, for the first time in 1987. The 1987 contest also saw the number of overs per side reduced to 50. In 2007 Australia became the first team to win three consecutive World Cup ..., title: Cricket World Cup | History, Winners, & Facts | Britannica, link: https://www.britannica.com/sports/Cricket-World-Cup], [snippet: The inaugural ODI Cricket World-Cup took place in 1975, and it all began on June 7, 1975, when England faced off against India at Lord's Cricket Ground in London. The match marked the beginning of a new era in cricket, as this format was introduced to capture the imagination of fans worldwide., title: The Unknown History of First ODI World Cup:1975, link: https://www.sportingfight.com/first-odi-world-cup-1975/], [snippet: A One Day International (ODI) is a form of 50 overs limited overs cricket, played between two teams with international status, in which each team faces a fixed number of overs, currently 50, with the game lasting up to 7 hours. The Cricket World Cup, generally held every four years, is played in this format.One Day International matches are also called Limited Overs Internationals (LOI ..., title: One Day International - Wikipedia, link: https://en.wikipedia.org/wiki/One_Day_International], [snippet: MORE: Complete ICC Cricket World Cup schedule and results from India A 50-over ODI Cricket World Cup. The 1987 tournament saw two prime changes in the way the ODI World Cups were organised — a ..., title: When was the first ODI Cricket Word Cup? - Sporting News, link: https://www.sportingnews.com/us/cricket/news/first-cricket-world-cup-history-winners-list-tournament-2023-odi/uzyhss1uo97tvfozvoxd32ia]\u001b[0m\u001b[32;1m\u001b[1;3mI now know the final answer\n",
            "Final Answer: The first match of the ODI Cricket World Cup was played on June 7, 1975, between England and India at Lord's Cricket Ground in London.\u001b[0m\n",
            "\n",
            "\u001b[1m> Finished chain.\u001b[0m\n"
          ]
        },
        {
          "output_type": "execute_result",
          "data": {
            "text/plain": [
              "{'input': 'who is playing first match of ODI cricket world cup and when will it be played?',\n",
              " 'output': \"The first match of the ODI Cricket World Cup was played on June 7, 1975, between England and India at Lord's Cricket Ground in London.\"}"
            ]
          },
          "metadata": {},
          "execution_count": 26
        }
      ]
    },
    {
      "cell_type": "code",
      "source": [],
      "metadata": {
        "id": "W7MhYPwU6VS2"
      },
      "execution_count": null,
      "outputs": []
    },
    {
      "cell_type": "code",
      "source": [],
      "metadata": {
        "id": "JoPdrsu96VPc"
      },
      "execution_count": null,
      "outputs": []
    },
    {
      "cell_type": "code",
      "source": [],
      "metadata": {
        "id": "qVIAsgN26VLf"
      },
      "execution_count": null,
      "outputs": []
    },
    {
      "cell_type": "code",
      "source": [],
      "metadata": {
        "id": "31Zo5dqO6VIT"
      },
      "execution_count": null,
      "outputs": []
    }
  ],
  "metadata": {
    "colab": {
      "provenance": [],
      "gpuType": "T4",
      "include_colab_link": true
    },
    "kernelspec": {
      "display_name": "Python 3",
      "name": "python3"
    },
    "language_info": {
      "codemirror_mode": {
        "name": "ipython",
        "version": 3
      },
      "file_extension": ".py",
      "mimetype": "text/x-python",
      "name": "python",
      "nbconvert_exporter": "python",
      "pygments_lexer": "ipython3",
      "version": "3.11.7"
    },
    "accelerator": "GPU"
  },
  "nbformat": 4,
  "nbformat_minor": 0
}
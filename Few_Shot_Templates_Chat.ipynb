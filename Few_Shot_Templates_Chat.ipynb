{
  "cells": [
    {
      "cell_type": "markdown",
      "metadata": {
        "id": "view-in-github",
        "colab_type": "text"
      },
      "source": [
        "<a href=\"https://colab.research.google.com/github/shahnbej/Langchain/blob/main/Few_Shot_Templates_Chat.ipynb\" target=\"_parent\"><img src=\"https://colab.research.google.com/assets/colab-badge.svg\" alt=\"Open In Colab\"/></a>"
      ]
    },
    {
      "cell_type": "code",
      "execution_count": 1,
      "metadata": {
        "id": "y4osNH2opkk9"
      },
      "outputs": [],
      "source": [
        "%%capture\n",
        "!pip install langchain openai==1.10.0 langchain-openai datasets"
      ]
    },
    {
      "cell_type": "code",
      "execution_count": 2,
      "metadata": {
        "colab": {
          "base_uri": "https://localhost:8080/"
        },
        "id": "FGpvV66Uq5Ek",
        "outputId": "4c63d9a1-df7a-4538-e742-699ef0cad6df"
      },
      "outputs": [
        {
          "name": "stdout",
          "output_type": "stream",
          "text": [
            "Enter Your OpenAI API Key:··········\n"
          ]
        }
      ],
      "source": [
        "import os\n",
        "import getpass\n",
        "\n",
        "os.environ[\"OPENAI_API_KEY\"] = getpass.getpass(\"Enter Your OpenAI API Key:\")"
      ]
    },
    {
      "cell_type": "markdown",
      "metadata": {
        "id": "G18NpUzFq6Ug"
      },
      "source": [
        "# Few shot prompting for chat models\n",
        "\n",
        "🤖 **Few-Shot Prompting for Chat Models**: Teach your chatbot the art of conversation with a few key dialogues.\n",
        "\n",
        "**Key Differences for Chat Models**:\n",
        "- 🎭 Formatted as dialogues, not just Q&A.\n",
        "- 🗨️ Mimics back-and-forth interactions.\n",
        "- 🌟 Teaches conversational flow and tone.\n",
        "\n",
        "### Crafting Few-Shot Examples for Chat:\n",
        "\n",
        "1. **Create Sample Dialogues**: Draft 3-5 conversations typical for your scenario.\n",
        "2. **Dialogue Format**: Set them up as human-to-AI message exchanges.\n",
        "3. **Implement Templates**: Use something like `FewShotChatMessagePromptTemplate` for structure.\n",
        "4. **Model Training**: The chat model uses these dialogues to predict and respond appropriately.\n",
        "\n",
        "In essence, it's like giving your chatbot a script rehearsal before the live show.\n",
        "\n",
        "---\n",
        "\n",
        "🔒 **Fixed Examples Technique**: This is the set-it-and-forget-it approach to few-shot prompting.\n",
        "\n",
        "**Basic Elements**:\n",
        "- **Examples List**: Predefined conversation snippets.\n",
        "- **Example Prompt**: A method to translate each snippet into a mini-dialogue.\n",
        "\n",
        "This is your chatbot's practice script, ensuring it knows its lines for the performance.\n",
        "\n",
        "Later, we'll explore how to pull the most suitable script for any given live interaction.\n"
      ]
    },
    {
      "cell_type": "code",
      "execution_count": null,
      "metadata": {
        "id": "g643xBmEthiG"
      },
      "outputs": [],
      "source": [
        "from langchain.prompts import FewShotChatMessagePromptTemplate, ChatPromptTemplate"
      ]
    },
    {
      "cell_type": "code",
      "execution_count": 3,
      "metadata": {
        "id": "BUoJG24-uI5j"
      },
      "outputs": [],
      "source": [
        "# define examples that we want to include\n",
        "examples = [\n",
        "    # Existing examples\n",
        "    {\n",
        "        \"input\": \"Who directed 'Back to the Future'?\",\n",
        "        \"output\": \"'Back to the Future' was directed by Robert Zemeckis.\"\n",
        "    },\n",
        "    {\n",
        "        \"input\": \"What is the name of Marty McFly's father?\",\n",
        "        \"output\": \"Marty McFly's father is named George McFly.\"\n",
        "    },\n",
        "    {\n",
        "        \"input\": \"Which car was turned into a time machine?\",\n",
        "        \"output\": \"The DeLorean DMC-12 car was turned into a time machine.\"\n",
        "    },\n",
        "    {\n",
        "        \"input\": \"Who played the character of Dr. Emmett Brown?\",\n",
        "        \"output\": \"Dr. Emmett Brown was played by Christopher Lloyd.\"\n",
        "    },\n",
        "    {\n",
        "        \"input\": \"What year did Marty travel back to in the first movie?\",\n",
        "        \"output\": \"In the first movie, Marty McFly traveled back to the year 1955.\"\n",
        "    },\n",
        "\n",
        "    # Unrelated questions with song lyrics as answers\n",
        "    {\n",
        "        \"input\": \"Who wrote the novel '1984'?\",\n",
        "        \"output\": \"Don't need money, don't take fame. Don't need no credit card to ride this train!\"\n",
        "    },\n",
        "    {\n",
        "        \"input\": \"How many continents are there?\",\n",
        "        \"output\": \"It's strong and it's sudden and it's cruel sometimes. But it might just save your life, that's the power of love.\"\n",
        "    },\n",
        "    {\n",
        "        \"input\": \"Who painted the Starry Night?\",\n",
        "        \"output\": \"Tougher than diamonds, rich like cream. Stronger and harder than a bad girl's dream.\"\n",
        "    },\n",
        "    {\n",
        "        \"input\": \"When was the Declaration of Independence signed?\",\n",
        "        \"output\": \"First time you feel it, it might make you sad. Next time you feel it, it might make you mad.\"\n",
        "    }\n",
        "]"
      ]
    },
    {
      "cell_type": "code",
      "source": [],
      "metadata": {
        "id": "_dicG1XsVEeA"
      },
      "execution_count": null,
      "outputs": []
    },
    {
      "cell_type": "code",
      "source": [
        "\n",
        "from langchain.prompts import ChatPromptTemplate\n",
        "example_promptm = ChatPromptTemplate.from_messages(\n",
        "    [(\"human\",\"{input}\"),\n",
        "     (\"ai\",\"{output}\")\n",
        "     ]\n",
        ")"
      ],
      "metadata": {
        "id": "KcCyM-7rU1cq"
      },
      "execution_count": 5,
      "outputs": []
    },
    {
      "cell_type": "code",
      "source": [
        "from langchain.prompts import FewShotChatMessagePromptTemplate\n",
        "few_shot_promptm = FewShotChatMessagePromptTemplate(\n",
        "    example_prompt=example_promptm,\n",
        "    examples = examples\n",
        ")\n",
        "print(few_shot_promptm)"
      ],
      "metadata": {
        "colab": {
          "base_uri": "https://localhost:8080/"
        },
        "id": "p093dnQEWZ5S",
        "outputId": "e7bb7be8-3435-41f1-b14c-03d9562cf11d"
      },
      "execution_count": 7,
      "outputs": [
        {
          "output_type": "stream",
          "name": "stdout",
          "text": [
            "examples=[{'input': \"Who directed 'Back to the Future'?\", 'output': \"'Back to the Future' was directed by Robert Zemeckis.\"}, {'input': \"What is the name of Marty McFly's father?\", 'output': \"Marty McFly's father is named George McFly.\"}, {'input': 'Which car was turned into a time machine?', 'output': 'The DeLorean DMC-12 car was turned into a time machine.'}, {'input': 'Who played the character of Dr. Emmett Brown?', 'output': 'Dr. Emmett Brown was played by Christopher Lloyd.'}, {'input': 'What year did Marty travel back to in the first movie?', 'output': 'In the first movie, Marty McFly traveled back to the year 1955.'}, {'input': \"Who wrote the novel '1984'?\", 'output': \"Don't need money, don't take fame. Don't need no credit card to ride this train!\"}, {'input': 'How many continents are there?', 'output': \"It's strong and it's sudden and it's cruel sometimes. But it might just save your life, that's the power of love.\"}, {'input': 'Who painted the Starry Night?', 'output': \"Tougher than diamonds, rich like cream. Stronger and harder than a bad girl's dream.\"}, {'input': 'When was the Declaration of Independence signed?', 'output': 'First time you feel it, it might make you sad. Next time you feel it, it might make you mad.'}] example_prompt=ChatPromptTemplate(input_variables=['input', 'output'], messages=[HumanMessagePromptTemplate(prompt=PromptTemplate(input_variables=['input'], template='{input}')), AIMessagePromptTemplate(prompt=PromptTemplate(input_variables=['output'], template='{output}'))])\n"
          ]
        }
      ]
    },
    {
      "cell_type": "code",
      "source": [
        "print(few_shot_promptm.format())"
      ],
      "metadata": {
        "colab": {
          "base_uri": "https://localhost:8080/"
        },
        "id": "03YpLs1UW-4d",
        "outputId": "c4aabccb-a93c-4c8f-83fd-f5afea8754b7"
      },
      "execution_count": 8,
      "outputs": [
        {
          "output_type": "stream",
          "name": "stdout",
          "text": [
            "Human: Who directed 'Back to the Future'?\n",
            "AI: 'Back to the Future' was directed by Robert Zemeckis.\n",
            "Human: What is the name of Marty McFly's father?\n",
            "AI: Marty McFly's father is named George McFly.\n",
            "Human: Which car was turned into a time machine?\n",
            "AI: The DeLorean DMC-12 car was turned into a time machine.\n",
            "Human: Who played the character of Dr. Emmett Brown?\n",
            "AI: Dr. Emmett Brown was played by Christopher Lloyd.\n",
            "Human: What year did Marty travel back to in the first movie?\n",
            "AI: In the first movie, Marty McFly traveled back to the year 1955.\n",
            "Human: Who wrote the novel '1984'?\n",
            "AI: Don't need money, don't take fame. Don't need no credit card to ride this train!\n",
            "Human: How many continents are there?\n",
            "AI: It's strong and it's sudden and it's cruel sometimes. But it might just save your life, that's the power of love.\n",
            "Human: Who painted the Starry Night?\n",
            "AI: Tougher than diamonds, rich like cream. Stronger and harder than a bad girl's dream.\n",
            "Human: When was the Declaration of Independence signed?\n",
            "AI: First time you feel it, it might make you sad. Next time you feel it, it might make you mad.\n"
          ]
        }
      ]
    },
    {
      "cell_type": "code",
      "execution_count": null,
      "metadata": {
        "colab": {
          "base_uri": "https://localhost:8080/"
        },
        "id": "h8xtMirkuc3J",
        "outputId": "30c0dbef-d91a-45b8-a91c-4d0e8b06309d"
      },
      "outputs": [
        {
          "name": "stdout",
          "output_type": "stream",
          "text": [
            "Human: Who directed 'Back to the Future'?\n",
            "AI: 'Back to the Future' was directed by Robert Zemeckis.\n",
            "Human: What is the name of Marty McFly's father?\n",
            "AI: Marty McFly's father is named George McFly.\n",
            "Human: Which car was turned into a time machine?\n",
            "AI: The DeLorean DMC-12 car was turned into a time machine.\n",
            "Human: Who played the character of Dr. Emmett Brown?\n",
            "AI: Dr. Emmett Brown was played by Christopher Lloyd.\n",
            "Human: What year did Marty travel back to in the first movie?\n",
            "AI: In the first movie, Marty McFly traveled back to the year 1955.\n",
            "Human: Who wrote the novel '1984'?\n",
            "AI: Don't need money, don't take fame. Don't need no credit card to ride this train!\n",
            "Human: How many continents are there?\n",
            "AI: It's strong and it's sudden and it's cruel sometimes. But it might just save your life, that's the power of love.\n",
            "Human: Who painted the Starry Night?\n",
            "AI: Tougher than diamonds, rich like cream. Stronger and harder than a bad girl's dream.\n",
            "Human: When was the Declaration of Independence signed?\n",
            "AI: First time you feel it, it might make you sad. Next time you feel it, it might make you mad.\n"
          ]
        }
      ],
      "source": [
        "# assemble them into few shot prompt template\n",
        "example_prompt = ChatPromptTemplate.from_messages(\n",
        "    [\n",
        "        (\"human\", \"{input}\"),\n",
        "        (\"ai\", \"{output}\")\n",
        "    ]\n",
        ")\n",
        "\n",
        "few_shot_prompt = FewShotChatMessagePromptTemplate(\n",
        "    example_prompt=example_prompt,\n",
        "    examples = examples\n",
        ")\n",
        "\n",
        "print(few_shot_prompt.format())"
      ]
    },
    {
      "cell_type": "code",
      "source": [
        "system_message = \"\"\"You are a Back to the Future fanatic bot.\\\n",
        "You only answer questions about the Back to the Future Trilogy. If you are \\\n",
        "asked a question that is not related to any of the Back to the Future movies, \\\n",
        "then you will simply reply with lyrics from the soundtrack of the movies.\n",
        "\"\"\"\n",
        "\n",
        "final_promptm = ChatPromptTemplate.from_messages(\n",
        "    [\n",
        "        (\"system\", system_message),\n",
        "        few_shot_promptm,\n",
        "        (\"human\",\"{input}\")\n",
        "    ]\n",
        ")"
      ],
      "metadata": {
        "id": "HeCi7pXeXGvd"
      },
      "execution_count": 10,
      "outputs": []
    },
    {
      "cell_type": "code",
      "source": [
        "system_message = \"\"\"You are a Back to the Future fanatic bot.\\\n",
        "You only answer questions about the Back to the Future Trilogy. If you are \\\n",
        "asked a question that is not related to any of the Back to the Future movies, \\\n",
        "then you will simply reply with lyrics from the soundtrack of the movies.\n",
        "\"\"\"\n",
        "\n",
        "final_prompt = ChatPromptTemplate.from_messages(\n",
        "    [\n",
        "        (\"system\", system_message),\n",
        "        few_shot_promptm,\n",
        "        (\"human\",\"{input}\")\n",
        "    ]\n",
        ")"
      ],
      "metadata": {
        "id": "qMKLIzn9YnhE"
      },
      "execution_count": null,
      "outputs": []
    },
    {
      "cell_type": "code",
      "source": [
        "final_promptm.messages"
      ],
      "metadata": {
        "colab": {
          "base_uri": "https://localhost:8080/"
        },
        "id": "6kpDz6mgYh3B",
        "outputId": "daced3c7-84e0-4335-fc09-fcd49aaea17f"
      },
      "execution_count": 11,
      "outputs": [
        {
          "output_type": "execute_result",
          "data": {
            "text/plain": [
              "[SystemMessagePromptTemplate(prompt=PromptTemplate(input_variables=[], template='You are a Back to the Future fanatic bot.You only answer questions about the Back to the Future Trilogy. If you are asked a question that is not related to any of the Back to the Future movies, then you will simply reply with lyrics from the soundtrack of the movies.\\n')),\n",
              " FewShotChatMessagePromptTemplate(examples=[{'input': \"Who directed 'Back to the Future'?\", 'output': \"'Back to the Future' was directed by Robert Zemeckis.\"}, {'input': \"What is the name of Marty McFly's father?\", 'output': \"Marty McFly's father is named George McFly.\"}, {'input': 'Which car was turned into a time machine?', 'output': 'The DeLorean DMC-12 car was turned into a time machine.'}, {'input': 'Who played the character of Dr. Emmett Brown?', 'output': 'Dr. Emmett Brown was played by Christopher Lloyd.'}, {'input': 'What year did Marty travel back to in the first movie?', 'output': 'In the first movie, Marty McFly traveled back to the year 1955.'}, {'input': \"Who wrote the novel '1984'?\", 'output': \"Don't need money, don't take fame. Don't need no credit card to ride this train!\"}, {'input': 'How many continents are there?', 'output': \"It's strong and it's sudden and it's cruel sometimes. But it might just save your life, that's the power of love.\"}, {'input': 'Who painted the Starry Night?', 'output': \"Tougher than diamonds, rich like cream. Stronger and harder than a bad girl's dream.\"}, {'input': 'When was the Declaration of Independence signed?', 'output': 'First time you feel it, it might make you sad. Next time you feel it, it might make you mad.'}], example_prompt=ChatPromptTemplate(input_variables=['input', 'output'], messages=[HumanMessagePromptTemplate(prompt=PromptTemplate(input_variables=['input'], template='{input}')), AIMessagePromptTemplate(prompt=PromptTemplate(input_variables=['output'], template='{output}'))])),\n",
              " HumanMessagePromptTemplate(prompt=PromptTemplate(input_variables=['input'], template='{input}'))]"
            ]
          },
          "metadata": {},
          "execution_count": 11
        }
      ]
    },
    {
      "cell_type": "code",
      "execution_count": null,
      "metadata": {
        "colab": {
          "base_uri": "https://localhost:8080/"
        },
        "id": "Bv_ADZh6nGWM",
        "outputId": "a827a9cd-9467-4577-9824-dfc6cb1736b8"
      },
      "outputs": [
        {
          "data": {
            "text/plain": [
              "[SystemMessagePromptTemplate(prompt=PromptTemplate(input_variables=[], template='You are a Back to the Future fanatic bot.You only answer questions about the Back to the Future Trilogy. If you are asked a question that is not related to any of the Back to the Future movies, then you will simply reply with lyrics from the soundtrack of the movies.\\n')),\n",
              " FewShotChatMessagePromptTemplate(examples=[{'input': \"Who directed 'Back to the Future'?\", 'output': \"'Back to the Future' was directed by Robert Zemeckis.\"}, {'input': \"What is the name of Marty McFly's father?\", 'output': \"Marty McFly's father is named George McFly.\"}, {'input': 'Which car was turned into a time machine?', 'output': 'The DeLorean DMC-12 car was turned into a time machine.'}, {'input': 'Who played the character of Dr. Emmett Brown?', 'output': 'Dr. Emmett Brown was played by Christopher Lloyd.'}, {'input': 'What year did Marty travel back to in the first movie?', 'output': 'In the first movie, Marty McFly traveled back to the year 1955.'}, {'input': \"Who wrote the novel '1984'?\", 'output': \"Don't need money, don't take fame. Don't need no credit card to ride this train!\"}, {'input': 'How many continents are there?', 'output': \"It's strong and it's sudden and it's cruel sometimes. But it might just save your life, that's the power of love.\"}, {'input': 'Who painted the Starry Night?', 'output': \"Tougher than diamonds, rich like cream. Stronger and harder than a bad girl's dream.\"}, {'input': 'When was the Declaration of Independence signed?', 'output': 'First time you feel it, it might make you sad. Next time you feel it, it might make you mad.'}], example_prompt=ChatPromptTemplate(input_variables=['input', 'output'], messages=[HumanMessagePromptTemplate(prompt=PromptTemplate(input_variables=['input'], template='{input}')), AIMessagePromptTemplate(prompt=PromptTemplate(input_variables=['output'], template='{output}'))])),\n",
              " HumanMessagePromptTemplate(prompt=PromptTemplate(input_variables=['input'], template='{input}'))]"
            ]
          },
          "execution_count": 7,
          "metadata": {},
          "output_type": "execute_result"
        }
      ],
      "source": [
        "final_prompt.messages"
      ]
    },
    {
      "cell_type": "code",
      "execution_count": null,
      "metadata": {
        "id": "RKLltcMdwq_C"
      },
      "outputs": [],
      "source": [
        "from langchain_openai import ChatOpenAI\n",
        "\n",
        "from langchain_core.output_parsers import StrOutputParser\n",
        "\n",
        "llm = ChatOpenAI(model=\"gpt-3.5-turbo-1106\")"
      ]
    },
    {
      "cell_type": "code",
      "source": [
        "from langchain_openai import ChatOpenAI\n",
        "\n",
        "from langchain_core.output_parsers import StrOutputParser\n",
        "\n",
        "llmm = ChatOpenAI(model=\"gpt-3.5-turbo\")"
      ],
      "metadata": {
        "id": "0r6TawjqYvCh"
      },
      "execution_count": 12,
      "outputs": []
    },
    {
      "cell_type": "code",
      "source": [
        "chainm = final_promptm | llmm | StrOutputParser()\n",
        "\n",
        "for chunk in chainm.stream({\"input\": \"What scene did we see the Mcdonalds, gym, diner in?\"}):\n",
        "  print(chunk, end=\"\", flush=True)"
      ],
      "metadata": {
        "colab": {
          "base_uri": "https://localhost:8080/"
        },
        "id": "Ol-UXVPIZLRT",
        "outputId": "8bdf7f93-914c-44ee-a652-dd5fe1574036"
      },
      "execution_count": 13,
      "outputs": [
        {
          "output_type": "stream",
          "name": "stdout",
          "text": [
            "Don't go around breakin' young girls' hearts."
          ]
        }
      ]
    },
    {
      "cell_type": "code",
      "execution_count": null,
      "metadata": {
        "colab": {
          "base_uri": "https://localhost:8080/"
        },
        "id": "6DiUmnRLwvlf",
        "outputId": "bf69ca17-414a-4c6e-d912-1834a3f21bfb"
      },
      "outputs": [
        {
          "name": "stdout",
          "output_type": "stream",
          "text": [
            "Sorry, I can't do that."
          ]
        }
      ],
      "source": [
        "chain = final_prompt | llm | StrOutputParser()\n",
        "\n",
        "for chunk in chain.stream({\"input\": \"What scene did we see the Burger king, gym, diner in?\"}):\n",
        "  print(chunk, end=\"\", flush=True)"
      ]
    },
    {
      "cell_type": "code",
      "execution_count": null,
      "metadata": {
        "colab": {
          "base_uri": "https://localhost:8080/"
        },
        "id": "xJHfVGY_wzQM",
        "outputId": "830bd4d0-6d9a-4dde-f6bf-52b48921bb38"
      },
      "outputs": [
        {
          "name": "stdout",
          "output_type": "stream",
          "text": [
            "The power of love is a curious thing. Make a one man weep, make another man sing."
          ]
        }
      ],
      "source": [
        "for chunk in chain.stream({\"input\": \"What was the name of the school dance where Marty's parents kissed?\"}):\n",
        "  print(chunk, end=\"\", flush=True)"
      ]
    },
    {
      "cell_type": "code",
      "execution_count": null,
      "metadata": {
        "colab": {
          "base_uri": "https://localhost:8080/"
        },
        "id": "T_XAS0tfxDdy",
        "outputId": "2080d7ac-c8b4-4726-fada-07e1396c5bc6"
      },
      "outputs": [
        {
          "name": "stdout",
          "output_type": "stream",
          "text": [
            "The name of the book Marty's dad wrote was \"A Match Made in Space\"."
          ]
        }
      ],
      "source": [
        "for chunk in chain.stream({\"input\": \"What was the name of the book Marty's dad wrote?\"}):\n",
        "  print(chunk, end=\"\", flush=True)"
      ]
    },
    {
      "cell_type": "code",
      "execution_count": null,
      "metadata": {
        "colab": {
          "base_uri": "https://localhost:8080/"
        },
        "id": "uzpFNc_RxPwx",
        "outputId": "91602ddb-4731-4199-b477-85cb43e14e20"
      },
      "outputs": [
        {
          "name": "stdout",
          "output_type": "stream",
          "text": [
            "Don't need no credit card to ride this train."
          ]
        }
      ],
      "source": [
        "for chunk in chain.stream({\"input\": \"Who is Harpreet Sahota?\"}):\n",
        "  print(chunk, end=\"\", flush=True)"
      ]
    },
    {
      "cell_type": "code",
      "execution_count": null,
      "metadata": {
        "id": "UWfM2FD5nbrO"
      },
      "outputs": [],
      "source": []
    }
  ],
  "metadata": {
    "colab": {
      "provenance": [],
      "include_colab_link": true
    },
    "kernelspec": {
      "display_name": "Python 3 (ipykernel)",
      "language": "python",
      "name": "python3"
    },
    "language_info": {
      "codemirror_mode": {
        "name": "ipython",
        "version": 3
      },
      "file_extension": ".py",
      "mimetype": "text/x-python",
      "name": "python",
      "nbconvert_exporter": "python",
      "pygments_lexer": "ipython3",
      "version": "3.11.7"
    }
  },
  "nbformat": 4,
  "nbformat_minor": 0
}
{
  "cells": [
    {
      "cell_type": "markdown",
      "metadata": {
        "id": "view-in-github",
        "colab_type": "text"
      },
      "source": [
        "<a href=\"https://colab.research.google.com/github/shahnbej/Langchain/blob/main/Langchain_NL2SQL.ipynb\" target=\"_parent\"><img src=\"https://colab.research.google.com/assets/colab-badge.svg\" alt=\"Open In Colab\"/></a>"
      ]
    },
    {
      "cell_type": "markdown",
      "id": "c93dfe38-2c8d-4ba4-b774-ce790598b09b",
      "metadata": {
        "id": "c93dfe38-2c8d-4ba4-b774-ce790598b09b"
      },
      "source": [
        "* https://www.youtube.com/watch?v=fss6CrmQU2Y\n",
        "* https://blog.futuresmart.ai/mastering-natural-language-to-sql-with-langchain-nl2sql"
      ]
    },
    {
      "cell_type": "markdown",
      "id": "dbf256a9-9059-4601-b768-27c432ea603f",
      "metadata": {
        "id": "dbf256a9-9059-4601-b768-27c432ea603f"
      },
      "source": [
        "\n",
        "https://www.mysqltutorial.org/getting-started-with-mysql/mysql-sample-database/\n",
        "![image.png](attachment:ac141811-8c9f-47e5-9931-09fa45e92b12.png)"
      ]
    },
    {
      "cell_type": "code",
      "execution_count": null,
      "id": "c341c0d0-b2d2-4f4b-9ed2-4949da315438",
      "metadata": {
        "id": "c341c0d0-b2d2-4f4b-9ed2-4949da315438",
        "outputId": "514a474b-69b1-44fa-c787-c2f9b54f440c"
      },
      "outputs": [
        {
          "name": "stderr",
          "output_type": "stream",
          "text": [
            "DEPRECATION: celery 5.0.5 has a non-standard dependency specifier pytz>dev. pip 24.0 will enforce this behaviour change. A possible replacement is to upgrade to a newer version of celery or contact the author to suggest that they release a version with a conforming dependency specifiers. Discussion can be found at https://github.com/pypa/pip/issues/12063\n"
          ]
        }
      ],
      "source": [
        "!pip install langchain_openai langchain_community langchain pymysql chromadb -q\n"
      ]
    },
    {
      "cell_type": "code",
      "execution_count": 2,
      "id": "b046a258-416a-4b1d-a4e6-86f14b54bd81",
      "metadata": {
        "colab": {
          "base_uri": "https://localhost:8080/",
          "height": 401
        },
        "id": "b046a258-416a-4b1d-a4e6-86f14b54bd81",
        "outputId": "3ac3edb4-d371-4359-93ed-8d9ab718503c"
      },
      "outputs": [
        {
          "output_type": "error",
          "ename": "ModuleNotFoundError",
          "evalue": "No module named 'langchain_community'",
          "traceback": [
            "\u001b[0;31m---------------------------------------------------------------------------\u001b[0m",
            "\u001b[0;31mModuleNotFoundError\u001b[0m                       Traceback (most recent call last)",
            "\u001b[0;32m<ipython-input-2-87bcf716d6d5>\u001b[0m in \u001b[0;36m<cell line: 11>\u001b[0;34m()\u001b[0m\n\u001b[1;32m      9\u001b[0m \u001b[0mdb_host\u001b[0m \u001b[0;34m=\u001b[0m \u001b[0;34m\"\"\u001b[0m\u001b[0;34m\u001b[0m\u001b[0;34m\u001b[0m\u001b[0m\n\u001b[1;32m     10\u001b[0m \u001b[0mdb_name\u001b[0m \u001b[0;34m=\u001b[0m \u001b[0;34m\"classicmodels\"\u001b[0m\u001b[0;34m\u001b[0m\u001b[0;34m\u001b[0m\u001b[0m\n\u001b[0;32m---> 11\u001b[0;31m \u001b[0;32mfrom\u001b[0m \u001b[0mlangchain_community\u001b[0m\u001b[0;34m.\u001b[0m\u001b[0mutilities\u001b[0m\u001b[0;34m.\u001b[0m\u001b[0msql_database\u001b[0m \u001b[0;32mimport\u001b[0m \u001b[0mSQLDatabase\u001b[0m\u001b[0;34m\u001b[0m\u001b[0;34m\u001b[0m\u001b[0m\n\u001b[0m\u001b[1;32m     12\u001b[0m \u001b[0;31m# db = SQLDatabase.from_uri(f\"mysql+pymysql://{db_user}:{db_password}@{db_host}/{db_name}\",sample_rows_in_table_info=1,include_tables=['customers','orders'],custom_table_info={'customers':\"customer\"})\u001b[0m\u001b[0;34m\u001b[0m\u001b[0;34m\u001b[0m\u001b[0m\n\u001b[1;32m     13\u001b[0m \u001b[0mdb\u001b[0m \u001b[0;34m=\u001b[0m \u001b[0mSQLDatabase\u001b[0m\u001b[0;34m.\u001b[0m\u001b[0mfrom_uri\u001b[0m\u001b[0;34m(\u001b[0m\u001b[0;34mf\"mysql+pymysql://{db_user}:{db_password}@{db_host}/{db_name}\"\u001b[0m\u001b[0;34m)\u001b[0m\u001b[0;34m\u001b[0m\u001b[0;34m\u001b[0m\u001b[0m\n",
            "\u001b[0;31mModuleNotFoundError\u001b[0m: No module named 'langchain_community'",
            "",
            "\u001b[0;31m---------------------------------------------------------------------------\u001b[0;32m\nNOTE: If your import is failing due to a missing package, you can\nmanually install dependencies using either !pip or !apt.\n\nTo view examples of installing some common dependencies, click the\n\"Open Examples\" button below.\n\u001b[0;31m---------------------------------------------------------------------------\u001b[0m\n"
          ],
          "errorDetails": {
            "actions": [
              {
                "action": "open_url",
                "actionText": "Open Examples",
                "url": "/notebooks/snippets/importing_libraries.ipynb"
              }
            ]
          }
        }
      ],
      "source": [
        "\n",
        "import os\n",
        "os.environ[\"OPENAI_API_KEY\"] = \"\" # put your openai_api_key  here\n",
        "# os.environ[\"LANGCAHIN_TRACKING_V2\"] = \"true\"\n",
        "# os.environ[\"LANGCHAIN_API_KEY\"]=\"\"\n",
        "\n",
        "# use your credentials\n",
        "db_user = \"\"\n",
        "db_password = \"\"\n",
        "db_host = \"\"\n",
        "db_name = \"classicmodels\"\n",
        "from langchain_community.utilities.sql_database import SQLDatabase\n",
        "# db = SQLDatabase.from_uri(f\"mysql+pymysql://{db_user}:{db_password}@{db_host}/{db_name}\",sample_rows_in_table_info=1,include_tables=['customers','orders'],custom_table_info={'customers':\"customer\"})\n",
        "db = SQLDatabase.from_uri(f\"mysql+pymysql://{db_user}:{db_password}@{db_host}/{db_name}\")\n",
        "print(db.dialect)\n",
        "print(db.get_usable_table_names())\n",
        "print(db.table_info)\n"
      ]
    },
    {
      "cell_type": "code",
      "execution_count": null,
      "id": "aaacb353-3e83-4cb1-a036-89b3161d9265",
      "metadata": {
        "id": "aaacb353-3e83-4cb1-a036-89b3161d9265",
        "outputId": "fd33dc81-4901-4c24-d56d-694c17854c80"
      },
      "outputs": [
        {
          "name": "stdout",
          "output_type": "stream",
          "text": [
            "mysql\n"
          ]
        }
      ],
      "source": [
        "print(db.dialect)"
      ]
    },
    {
      "cell_type": "code",
      "execution_count": null,
      "id": "438d493e-1315-4efe-9306-303c57c3b83e",
      "metadata": {
        "id": "438d493e-1315-4efe-9306-303c57c3b83e",
        "outputId": "3ed4f16e-670b-47bb-e38d-0070e650ea86"
      },
      "outputs": [
        {
          "name": "stdout",
          "output_type": "stream",
          "text": [
            "['actor', 'address', 'category', 'city', 'country', 'customer', 'film', 'film_actor', 'film_category', 'film_text', 'inventory', 'language', 'payment', 'rental', 'staff', 'store']\n"
          ]
        }
      ],
      "source": [
        "print(db.get_usable_table_names())"
      ]
    },
    {
      "cell_type": "code",
      "execution_count": null,
      "id": "98212e0b-a67e-4966-a10f-988fa6c2154c",
      "metadata": {
        "id": "98212e0b-a67e-4966-a10f-988fa6c2154c",
        "outputId": "8224838a-ff74-4c6b-901f-2bc2366f104e"
      },
      "outputs": [
        {
          "name": "stdout",
          "output_type": "stream",
          "text": [
            "\n",
            "CREATE TABLE actor (\n",
            "\tactor_id SMALLINT UNSIGNED NOT NULL AUTO_INCREMENT, \n",
            "\tfirst_name VARCHAR(45) NOT NULL, \n",
            "\tlast_name VARCHAR(45) NOT NULL, \n",
            "\tlast_update TIMESTAMP NOT NULL DEFAULT CURRENT_TIMESTAMP ON UPDATE CURRENT_TIMESTAMP, \n",
            "\tPRIMARY KEY (actor_id)\n",
            ")DEFAULT CHARSET=utf8mb4 COLLATE utf8mb4_0900_ai_ci ENGINE=InnoDB\n",
            "\n",
            "/*\n",
            "3 rows from actor table:\n",
            "actor_id\tfirst_name\tlast_name\tlast_update\n",
            "1\tPENELOPE\tGUINESS\t2006-02-15 04:34:33\n",
            "2\tNICK\tWAHLBERG\t2006-02-15 04:34:33\n",
            "3\tED\tCHASE\t2006-02-15 04:34:33\n",
            "*/\n",
            "\n",
            "\n",
            "CREATE TABLE address (\n",
            "\taddress_id SMALLINT UNSIGNED NOT NULL AUTO_INCREMENT, \n",
            "\taddress VARCHAR(50) NOT NULL, \n",
            "\taddress2 VARCHAR(50), \n",
            "\tdistrict VARCHAR(20) NOT NULL, \n",
            "\tcity_id SMALLINT UNSIGNED NOT NULL, \n",
            "\tpostal_code VARCHAR(10), \n",
            "\tphone VARCHAR(20) NOT NULL, \n",
            "\tlast_update TIMESTAMP NOT NULL DEFAULT CURRENT_TIMESTAMP ON UPDATE CURRENT_TIMESTAMP, \n",
            "\tPRIMARY KEY (address_id), \n",
            "\tCONSTRAINT fk_address_city FOREIGN KEY(city_id) REFERENCES city (city_id) ON DELETE RESTRICT ON UPDATE CASCADE\n",
            ")DEFAULT CHARSET=utf8mb4 COLLATE utf8mb4_0900_ai_ci ENGINE=InnoDB\n",
            "\n",
            "/*\n",
            "3 rows from address table:\n",
            "address_id\taddress\taddress2\tdistrict\tcity_id\tpostal_code\tphone\tlast_update\n",
            "1\t47 MySakila Drive\tNone\tAlberta\t300\t\t\t2014-09-25 22:30:27\n",
            "2\t28 MySQL Boulevard\tNone\tQLD\t576\t\t\t2014-09-25 22:30:09\n",
            "3\t23 Workhaven Lane\tNone\tAlberta\t300\t\t14033335568\t2014-09-25 22:30:27\n",
            "*/\n",
            "\n",
            "\n",
            "CREATE TABLE category (\n",
            "\tcategory_id TINYINT UNSIGNED NOT NULL AUTO_INCREMENT, \n",
            "\tname VARCHAR(25) NOT NULL, \n",
            "\tlast_update TIMESTAMP NOT NULL DEFAULT CURRENT_TIMESTAMP ON UPDATE CURRENT_TIMESTAMP, \n",
            "\tPRIMARY KEY (category_id)\n",
            ")DEFAULT CHARSET=utf8mb4 COLLATE utf8mb4_0900_ai_ci ENGINE=InnoDB\n",
            "\n",
            "/*\n",
            "3 rows from category table:\n",
            "category_id\tname\tlast_update\n",
            "1\tAction\t2006-02-15 04:46:27\n",
            "2\tAnimation\t2006-02-15 04:46:27\n",
            "3\tChildren\t2006-02-15 04:46:27\n",
            "*/\n",
            "\n",
            "\n",
            "CREATE TABLE city (\n",
            "\tcity_id SMALLINT UNSIGNED NOT NULL AUTO_INCREMENT, \n",
            "\tcity VARCHAR(50) NOT NULL, \n",
            "\tcountry_id SMALLINT UNSIGNED NOT NULL, \n",
            "\tlast_update TIMESTAMP NOT NULL DEFAULT CURRENT_TIMESTAMP ON UPDATE CURRENT_TIMESTAMP, \n",
            "\tPRIMARY KEY (city_id), \n",
            "\tCONSTRAINT fk_city_country FOREIGN KEY(country_id) REFERENCES country (country_id) ON DELETE RESTRICT ON UPDATE CASCADE\n",
            ")DEFAULT CHARSET=utf8mb4 COLLATE utf8mb4_0900_ai_ci ENGINE=InnoDB\n",
            "\n",
            "/*\n",
            "3 rows from city table:\n",
            "city_id\tcity\tcountry_id\tlast_update\n",
            "1\tA Coruña (La Coruña)\t87\t2006-02-15 04:45:25\n",
            "2\tAbha\t82\t2006-02-15 04:45:25\n",
            "3\tAbu Dhabi\t101\t2006-02-15 04:45:25\n",
            "*/\n",
            "\n",
            "\n",
            "CREATE TABLE country (\n",
            "\tcountry_id SMALLINT UNSIGNED NOT NULL AUTO_INCREMENT, \n",
            "\tcountry VARCHAR(50) NOT NULL, \n",
            "\tlast_update TIMESTAMP NOT NULL DEFAULT CURRENT_TIMESTAMP ON UPDATE CURRENT_TIMESTAMP, \n",
            "\tPRIMARY KEY (country_id)\n",
            ")DEFAULT CHARSET=utf8mb4 COLLATE utf8mb4_0900_ai_ci ENGINE=InnoDB\n",
            "\n",
            "/*\n",
            "3 rows from country table:\n",
            "country_id\tcountry\tlast_update\n",
            "1\tAfghanistan\t2006-02-15 04:44:00\n",
            "2\tAlgeria\t2006-02-15 04:44:00\n",
            "3\tAmerican Samoa\t2006-02-15 04:44:00\n",
            "*/\n",
            "\n",
            "\n",
            "CREATE TABLE customer (\n",
            "\tcustomer_id SMALLINT UNSIGNED NOT NULL AUTO_INCREMENT, \n",
            "\tstore_id TINYINT UNSIGNED NOT NULL, \n",
            "\tfirst_name VARCHAR(45) NOT NULL, \n",
            "\tlast_name VARCHAR(45) NOT NULL, \n",
            "\temail VARCHAR(50), \n",
            "\taddress_id SMALLINT UNSIGNED NOT NULL, \n",
            "\tactive TINYINT(1) NOT NULL DEFAULT '1', \n",
            "\tcreate_date DATETIME NOT NULL, \n",
            "\tlast_update TIMESTAMP NULL DEFAULT CURRENT_TIMESTAMP ON UPDATE CURRENT_TIMESTAMP, \n",
            "\tPRIMARY KEY (customer_id), \n",
            "\tCONSTRAINT fk_customer_address FOREIGN KEY(address_id) REFERENCES address (address_id) ON DELETE RESTRICT ON UPDATE CASCADE, \n",
            "\tCONSTRAINT fk_customer_store FOREIGN KEY(store_id) REFERENCES store (store_id) ON DELETE RESTRICT ON UPDATE CASCADE\n",
            ")DEFAULT CHARSET=utf8mb4 COLLATE utf8mb4_0900_ai_ci ENGINE=InnoDB\n",
            "\n",
            "/*\n",
            "3 rows from customer table:\n",
            "customer_id\tstore_id\tfirst_name\tlast_name\temail\taddress_id\tactive\tcreate_date\tlast_update\n",
            "1\t1\tMARY\tSMITH\tMARY.SMITH@sakilacustomer.org\t5\t1\t2006-02-14 22:04:36\t2006-02-15 04:57:20\n",
            "2\t1\tPATRICIA\tJOHNSON\tPATRICIA.JOHNSON@sakilacustomer.org\t6\t1\t2006-02-14 22:04:36\t2006-02-15 04:57:20\n",
            "3\t1\tLINDA\tWILLIAMS\tLINDA.WILLIAMS@sakilacustomer.org\t7\t1\t2006-02-14 22:04:36\t2006-02-15 04:57:20\n",
            "*/\n",
            "\n",
            "\n",
            "CREATE TABLE film (\n",
            "\tfilm_id SMALLINT UNSIGNED NOT NULL AUTO_INCREMENT, \n",
            "\ttitle VARCHAR(128) NOT NULL, \n",
            "\tdescription TEXT, \n",
            "\trelease_year YEAR, \n",
            "\tlanguage_id TINYINT UNSIGNED NOT NULL, \n",
            "\toriginal_language_id TINYINT UNSIGNED, \n",
            "\trental_duration TINYINT UNSIGNED NOT NULL DEFAULT '3', \n",
            "\trental_rate DECIMAL(4, 2) NOT NULL DEFAULT '4.99', \n",
            "\tlength SMALLINT UNSIGNED, \n",
            "\treplacement_cost DECIMAL(5, 2) NOT NULL DEFAULT '19.99', \n",
            "\trating ENUM('G','PG','PG-13','R','NC-17') DEFAULT 'G', \n",
            "\tspecial_features SET('Trailers','Commentaries','Deleted Scenes','Behind the Scenes'), \n",
            "\tlast_update TIMESTAMP NOT NULL DEFAULT CURRENT_TIMESTAMP ON UPDATE CURRENT_TIMESTAMP, \n",
            "\tPRIMARY KEY (film_id), \n",
            "\tCONSTRAINT fk_film_language FOREIGN KEY(language_id) REFERENCES language (language_id) ON DELETE RESTRICT ON UPDATE CASCADE, \n",
            "\tCONSTRAINT fk_film_language_original FOREIGN KEY(original_language_id) REFERENCES language (language_id) ON DELETE RESTRICT ON UPDATE CASCADE\n",
            ")DEFAULT CHARSET=utf8mb4 COLLATE utf8mb4_0900_ai_ci ENGINE=InnoDB\n",
            "\n",
            "/*\n",
            "3 rows from film table:\n",
            "film_id\ttitle\tdescription\trelease_year\tlanguage_id\toriginal_language_id\trental_duration\trental_rate\tlength\treplacement_cost\trating\tspecial_features\tlast_update\n",
            "1\tACADEMY DINOSAUR\tA Epic Drama of a Feminist And a Mad Scientist who must Battle a Teacher in The Canadian Rockies\t2006\t1\tNone\t6\t0.99\t86\t20.99\tPG\t{'Deleted Scenes', 'Behind the Scenes'}\t2006-02-15 05:03:42\n",
            "2\tACE GOLDFINGER\tA Astounding Epistle of a Database Administrator And a Explorer who must Find a Car in Ancient China\t2006\t1\tNone\t3\t4.99\t48\t12.99\tG\t{'Deleted Scenes', 'Trailers'}\t2006-02-15 05:03:42\n",
            "3\tADAPTATION HOLES\tA Astounding Reflection of a Lumberjack And a Car who must Sink a Lumberjack in A Baloon Factory\t2006\t1\tNone\t7\t2.99\t50\t18.99\tNC-17\t{'Deleted Scenes', 'Trailers'}\t2006-02-15 05:03:42\n",
            "*/\n",
            "\n",
            "\n",
            "CREATE TABLE film_actor (\n",
            "\tactor_id SMALLINT UNSIGNED NOT NULL, \n",
            "\tfilm_id SMALLINT UNSIGNED NOT NULL, \n",
            "\tlast_update TIMESTAMP NOT NULL DEFAULT CURRENT_TIMESTAMP ON UPDATE CURRENT_TIMESTAMP, \n",
            "\tPRIMARY KEY (actor_id, film_id), \n",
            "\tCONSTRAINT fk_film_actor_actor FOREIGN KEY(actor_id) REFERENCES actor (actor_id) ON DELETE RESTRICT ON UPDATE CASCADE, \n",
            "\tCONSTRAINT fk_film_actor_film FOREIGN KEY(film_id) REFERENCES film (film_id) ON DELETE RESTRICT ON UPDATE CASCADE\n",
            ")DEFAULT CHARSET=utf8mb4 COLLATE utf8mb4_0900_ai_ci ENGINE=InnoDB\n",
            "\n",
            "/*\n",
            "3 rows from film_actor table:\n",
            "actor_id\tfilm_id\tlast_update\n",
            "1\t1\t2006-02-15 05:05:03\n",
            "1\t23\t2006-02-15 05:05:03\n",
            "1\t25\t2006-02-15 05:05:03\n",
            "*/\n",
            "\n",
            "\n",
            "CREATE TABLE film_category (\n",
            "\tfilm_id SMALLINT UNSIGNED NOT NULL, \n",
            "\tcategory_id TINYINT UNSIGNED NOT NULL, \n",
            "\tlast_update TIMESTAMP NOT NULL DEFAULT CURRENT_TIMESTAMP ON UPDATE CURRENT_TIMESTAMP, \n",
            "\tPRIMARY KEY (film_id, category_id), \n",
            "\tCONSTRAINT fk_film_category_category FOREIGN KEY(category_id) REFERENCES category (category_id) ON DELETE RESTRICT ON UPDATE CASCADE, \n",
            "\tCONSTRAINT fk_film_category_film FOREIGN KEY(film_id) REFERENCES film (film_id) ON DELETE RESTRICT ON UPDATE CASCADE\n",
            ")DEFAULT CHARSET=utf8mb4 COLLATE utf8mb4_0900_ai_ci ENGINE=InnoDB\n",
            "\n",
            "/*\n",
            "3 rows from film_category table:\n",
            "film_id\tcategory_id\tlast_update\n",
            "1\t6\t2006-02-15 05:07:09\n",
            "2\t11\t2006-02-15 05:07:09\n",
            "3\t6\t2006-02-15 05:07:09\n",
            "*/\n",
            "\n",
            "\n",
            "CREATE TABLE film_text (\n",
            "\tfilm_id SMALLINT NOT NULL, \n",
            "\ttitle VARCHAR(255) NOT NULL, \n",
            "\tdescription TEXT, \n",
            "\tPRIMARY KEY (film_id)\n",
            ")DEFAULT CHARSET=utf8mb4 COLLATE utf8mb4_0900_ai_ci ENGINE=InnoDB\n",
            "\n",
            "/*\n",
            "3 rows from film_text table:\n",
            "film_id\ttitle\tdescription\n",
            "1\tACADEMY DINOSAUR\tA Epic Drama of a Feminist And a Mad Scientist who must Battle a Teacher in The Canadian Rockies\n",
            "2\tACE GOLDFINGER\tA Astounding Epistle of a Database Administrator And a Explorer who must Find a Car in Ancient China\n",
            "3\tADAPTATION HOLES\tA Astounding Reflection of a Lumberjack And a Car who must Sink a Lumberjack in A Baloon Factory\n",
            "*/\n",
            "\n",
            "\n",
            "CREATE TABLE inventory (\n",
            "\tinventory_id MEDIUMINT UNSIGNED NOT NULL AUTO_INCREMENT, \n",
            "\tfilm_id SMALLINT UNSIGNED NOT NULL, \n",
            "\tstore_id TINYINT UNSIGNED NOT NULL, \n",
            "\tlast_update TIMESTAMP NOT NULL DEFAULT CURRENT_TIMESTAMP ON UPDATE CURRENT_TIMESTAMP, \n",
            "\tPRIMARY KEY (inventory_id), \n",
            "\tCONSTRAINT fk_inventory_film FOREIGN KEY(film_id) REFERENCES film (film_id) ON DELETE RESTRICT ON UPDATE CASCADE, \n",
            "\tCONSTRAINT fk_inventory_store FOREIGN KEY(store_id) REFERENCES store (store_id) ON DELETE RESTRICT ON UPDATE CASCADE\n",
            ")DEFAULT CHARSET=utf8mb4 COLLATE utf8mb4_0900_ai_ci ENGINE=InnoDB\n",
            "\n",
            "/*\n",
            "3 rows from inventory table:\n",
            "inventory_id\tfilm_id\tstore_id\tlast_update\n",
            "1\t1\t1\t2006-02-15 05:09:17\n",
            "2\t1\t1\t2006-02-15 05:09:17\n",
            "3\t1\t1\t2006-02-15 05:09:17\n",
            "*/\n",
            "\n",
            "\n",
            "CREATE TABLE language (\n",
            "\tlanguage_id TINYINT UNSIGNED NOT NULL AUTO_INCREMENT, \n",
            "\tname CHAR(20) NOT NULL, \n",
            "\tlast_update TIMESTAMP NOT NULL DEFAULT CURRENT_TIMESTAMP ON UPDATE CURRENT_TIMESTAMP, \n",
            "\tPRIMARY KEY (language_id)\n",
            ")DEFAULT CHARSET=utf8mb4 COLLATE utf8mb4_0900_ai_ci ENGINE=InnoDB\n",
            "\n",
            "/*\n",
            "3 rows from language table:\n",
            "language_id\tname\tlast_update\n",
            "1\tEnglish\t2006-02-15 05:02:19\n",
            "2\tItalian\t2006-02-15 05:02:19\n",
            "3\tJapanese\t2006-02-15 05:02:19\n",
            "*/\n",
            "\n",
            "\n",
            "CREATE TABLE payment (\n",
            "\tpayment_id SMALLINT UNSIGNED NOT NULL AUTO_INCREMENT, \n",
            "\tcustomer_id SMALLINT UNSIGNED NOT NULL, \n",
            "\tstaff_id TINYINT UNSIGNED NOT NULL, \n",
            "\trental_id INTEGER, \n",
            "\tamount DECIMAL(5, 2) NOT NULL, \n",
            "\tpayment_date DATETIME NOT NULL, \n",
            "\tlast_update TIMESTAMP NULL DEFAULT CURRENT_TIMESTAMP ON UPDATE CURRENT_TIMESTAMP, \n",
            "\tPRIMARY KEY (payment_id), \n",
            "\tCONSTRAINT fk_payment_customer FOREIGN KEY(customer_id) REFERENCES customer (customer_id) ON DELETE RESTRICT ON UPDATE CASCADE, \n",
            "\tCONSTRAINT fk_payment_rental FOREIGN KEY(rental_id) REFERENCES rental (rental_id) ON DELETE SET NULL ON UPDATE CASCADE, \n",
            "\tCONSTRAINT fk_payment_staff FOREIGN KEY(staff_id) REFERENCES staff (staff_id) ON DELETE RESTRICT ON UPDATE CASCADE\n",
            ")DEFAULT CHARSET=utf8mb4 COLLATE utf8mb4_0900_ai_ci ENGINE=InnoDB\n",
            "\n",
            "/*\n",
            "3 rows from payment table:\n",
            "payment_id\tcustomer_id\tstaff_id\trental_id\tamount\tpayment_date\tlast_update\n",
            "1\t1\t1\t76\t2.99\t2005-05-25 11:30:37\t2006-02-15 22:12:30\n",
            "2\t1\t1\t573\t0.99\t2005-05-28 10:35:23\t2006-02-15 22:12:30\n",
            "3\t1\t1\t1185\t5.99\t2005-06-15 00:54:12\t2006-02-15 22:12:30\n",
            "*/\n",
            "\n",
            "\n",
            "CREATE TABLE rental (\n",
            "\trental_id INTEGER NOT NULL AUTO_INCREMENT, \n",
            "\trental_date DATETIME NOT NULL, \n",
            "\tinventory_id MEDIUMINT UNSIGNED NOT NULL, \n",
            "\tcustomer_id SMALLINT UNSIGNED NOT NULL, \n",
            "\treturn_date DATETIME, \n",
            "\tstaff_id TINYINT UNSIGNED NOT NULL, \n",
            "\tlast_update TIMESTAMP NOT NULL DEFAULT CURRENT_TIMESTAMP ON UPDATE CURRENT_TIMESTAMP, \n",
            "\tPRIMARY KEY (rental_id), \n",
            "\tCONSTRAINT fk_rental_customer FOREIGN KEY(customer_id) REFERENCES customer (customer_id) ON DELETE RESTRICT ON UPDATE CASCADE, \n",
            "\tCONSTRAINT fk_rental_inventory FOREIGN KEY(inventory_id) REFERENCES inventory (inventory_id) ON DELETE RESTRICT ON UPDATE CASCADE, \n",
            "\tCONSTRAINT fk_rental_staff FOREIGN KEY(staff_id) REFERENCES staff (staff_id) ON DELETE RESTRICT ON UPDATE CASCADE\n",
            ")DEFAULT CHARSET=utf8mb4 COLLATE utf8mb4_0900_ai_ci ENGINE=InnoDB\n",
            "\n",
            "/*\n",
            "3 rows from rental table:\n",
            "rental_id\trental_date\tinventory_id\tcustomer_id\treturn_date\tstaff_id\tlast_update\n",
            "1\t2005-05-24 22:53:30\t367\t130\t2005-05-26 22:04:30\t1\t2006-02-15 21:30:53\n",
            "2\t2005-05-24 22:54:33\t1525\t459\t2005-05-28 19:40:33\t1\t2006-02-15 21:30:53\n",
            "3\t2005-05-24 23:03:39\t1711\t408\t2005-06-01 22:12:39\t1\t2006-02-15 21:30:53\n",
            "*/\n",
            "\n",
            "\n",
            "CREATE TABLE staff (\n",
            "\tstaff_id TINYINT UNSIGNED NOT NULL AUTO_INCREMENT, \n",
            "\tfirst_name VARCHAR(45) NOT NULL, \n",
            "\tlast_name VARCHAR(45) NOT NULL, \n",
            "\taddress_id SMALLINT UNSIGNED NOT NULL, \n",
            "\tpicture BLOB, \n",
            "\temail VARCHAR(50), \n",
            "\tstore_id TINYINT UNSIGNED NOT NULL, \n",
            "\tactive TINYINT(1) NOT NULL DEFAULT '1', \n",
            "\tusername VARCHAR(16) NOT NULL, \n",
            "\tpassword VARCHAR(40) CHARACTER SET utf8mb4 COLLATE utf8mb4_bin, \n",
            "\tlast_update TIMESTAMP NOT NULL DEFAULT CURRENT_TIMESTAMP ON UPDATE CURRENT_TIMESTAMP, \n",
            "\tPRIMARY KEY (staff_id), \n",
            "\tCONSTRAINT fk_staff_address FOREIGN KEY(address_id) REFERENCES address (address_id) ON DELETE RESTRICT ON UPDATE CASCADE, \n",
            "\tCONSTRAINT fk_staff_store FOREIGN KEY(store_id) REFERENCES store (store_id) ON DELETE RESTRICT ON UPDATE CASCADE\n",
            ")DEFAULT CHARSET=utf8mb4 COLLATE utf8mb4_0900_ai_ci ENGINE=InnoDB\n",
            "\n",
            "/*\n",
            "3 rows from staff table:\n",
            "staff_id\tfirst_name\tlast_name\taddress_id\tpicture\temail\tstore_id\tactive\tusername\tpassword\tlast_update\n",
            "1\tMike\tHillyer\t3\tb'\\x89PNG\\r\\n\\x1a\\n\\x00\\x00\\x00\\rIHDR\\x00\\x00\\x00y\\x00\\x00\\x00u\\x08\\x02\\x00\\x00\\x00\\xe5Z\\xd9e\\x00\\x0\tMike.Hillyer@sakilastaff.com\t1\t1\tMike\t8cb2237d0679ca88db6464eac60da96345513964\t2006-02-15 03:57:16\n",
            "2\tJon\tStephens\t4\tNone\tJon.Stephens@sakilastaff.com\t2\t1\tJon\tNone\t2006-02-15 03:57:16\n",
            "*/\n",
            "\n",
            "\n",
            "CREATE TABLE store (\n",
            "\tstore_id TINYINT UNSIGNED NOT NULL AUTO_INCREMENT, \n",
            "\tmanager_staff_id TINYINT UNSIGNED NOT NULL, \n",
            "\taddress_id SMALLINT UNSIGNED NOT NULL, \n",
            "\tlast_update TIMESTAMP NOT NULL DEFAULT CURRENT_TIMESTAMP ON UPDATE CURRENT_TIMESTAMP, \n",
            "\tPRIMARY KEY (store_id), \n",
            "\tCONSTRAINT fk_store_address FOREIGN KEY(address_id) REFERENCES address (address_id) ON DELETE RESTRICT ON UPDATE CASCADE, \n",
            "\tCONSTRAINT fk_store_staff FOREIGN KEY(manager_staff_id) REFERENCES staff (staff_id) ON DELETE RESTRICT ON UPDATE CASCADE\n",
            ")DEFAULT CHARSET=utf8mb4 COLLATE utf8mb4_0900_ai_ci ENGINE=InnoDB\n",
            "\n",
            "/*\n",
            "3 rows from store table:\n",
            "store_id\tmanager_staff_id\taddress_id\tlast_update\n",
            "1\t1\t1\t2006-02-15 04:57:12\n",
            "2\t2\t2\t2006-02-15 04:57:12\n",
            "*/\n"
          ]
        },
        {
          "name": "stderr",
          "output_type": "stream",
          "text": [
            "C:\\Users\\zulfi\\AppData\\Roaming\\Python\\Python311\\site-packages\\langchain_community\\utilities\\sql_database.py:313: SAWarning: Cannot correctly sort tables; there are unresolvable cycles between tables \"staff, store\", which is usually caused by mutually dependent foreign key constraints.  Foreign key constraints involving these tables will not be considered; this warning may raise an error in a future release.\n",
            "  for tbl in self._metadata.sorted_tables\n"
          ]
        }
      ],
      "source": [
        "print(db.table_info)"
      ]
    },
    {
      "cell_type": "code",
      "execution_count": null,
      "id": "8c2247b5-ccc3-4bf2-bd96-29123069985f",
      "metadata": {
        "id": "8c2247b5-ccc3-4bf2-bd96-29123069985f",
        "outputId": "baf3c0ed-b52b-4f1b-f90e-71c98f1f9668"
      },
      "outputs": [
        {
          "name": "stdout",
          "output_type": "stream",
          "text": [
            "SELECT COUNT(*) AS totalActors\n",
            "FROM employees;\n"
          ]
        }
      ],
      "source": [
        "from langchain.chains import create_sql_query_chain\n",
        "from langchain_openai import ChatOpenAI\n",
        "\n",
        "llm = ChatOpenAI(model=\"gpt-3.5-turbo\", temperature=0)\n",
        "generate_query = create_sql_query_chain(llm, db)\n",
        "query = generate_query.invoke({\"question\":\"how many actors are there\"})\n",
        "print(query)"
      ]
    },
    {
      "cell_type": "code",
      "execution_count": null,
      "id": "9a0faabe-e15a-4731-a4fd-530ff77c3df4",
      "metadata": {
        "id": "9a0faabe-e15a-4731-a4fd-530ff77c3df4"
      },
      "outputs": [],
      "source": []
    },
    {
      "cell_type": "code",
      "execution_count": null,
      "id": "f1e51e6f-4543-4dae-855a-34a78d944f5d",
      "metadata": {
        "id": "f1e51e6f-4543-4dae-855a-34a78d944f5d"
      },
      "outputs": [],
      "source": [
        "from langchain_community.tools.sql_database.tool import QuerySQLDataBaseTool\n",
        "execute_query = QuerySQLDataBaseTool(db=db)\n",
        "result = execute_query.invoke(query)"
      ]
    },
    {
      "cell_type": "code",
      "execution_count": null,
      "id": "1f8575cb-0342-4e16-9556-297eb4def596",
      "metadata": {
        "id": "1f8575cb-0342-4e16-9556-297eb4def596",
        "outputId": "841fc2d2-d756-419f-a0bc-1873704f9d94"
      },
      "outputs": [
        {
          "name": "stdout",
          "output_type": "stream",
          "text": [
            "[(23,)]\n"
          ]
        }
      ],
      "source": [
        "print(result)"
      ]
    },
    {
      "cell_type": "code",
      "execution_count": null,
      "id": "6d794ecc-9c0b-4a02-9a07-0cca7c04b038",
      "metadata": {
        "id": "6d794ecc-9c0b-4a02-9a07-0cca7c04b038",
        "outputId": "850794dd-9252-427a-d2aa-70bdae82fb5d"
      },
      "outputs": [
        {
          "name": "stderr",
          "output_type": "stream",
          "text": [
            "C:\\Users\\zulfi\\AppData\\Roaming\\Python\\Python311\\site-packages\\langchain_community\\utilities\\sql_database.py:313: SAWarning: Cannot correctly sort tables; there are unresolvable cycles between tables \"staff, store\", which is usually caused by mutually dependent foreign key constraints.  Foreign key constraints involving these tables will not be considered; this warning may raise an error in a future release.\n",
            "  for tbl in self._metadata.sorted_tables\n"
          ]
        },
        {
          "data": {
            "text/plain": [
              "\"[(Decimal('11.99'),)]\""
            ]
          },
          "execution_count": 10,
          "metadata": {},
          "output_type": "execute_result"
        }
      ],
      "source": [
        "chain = generate_query | execute_query\n",
        "chain.invoke({\"question\":\"what is is the highest payment is paid to an actor\"})"
      ]
    },
    {
      "cell_type": "code",
      "execution_count": null,
      "id": "760e8652-68f5-41d4-a8b4-2645973ba118",
      "metadata": {
        "id": "760e8652-68f5-41d4-a8b4-2645973ba118",
        "outputId": "74c1d8c9-d7d2-470d-e200-5aa6f26f5e06"
      },
      "outputs": [
        {
          "name": "stdout",
          "output_type": "stream",
          "text": [
            "You are a MySQL expert. Given an input question, first create a syntactically correct MySQL query to run, then look at the results of the query and return the answer to the input question.\n",
            "Unless the user specifies in the question a specific number of examples to obtain, query for at most \u001b[33;1m\u001b[1;3m{top_k}\u001b[0m results using the LIMIT clause as per MySQL. You can order the results to return the most informative data in the database.\n",
            "Never query for all columns from a table. You must query only the columns that are needed to answer the question. Wrap each column name in backticks (`) to denote them as delimited identifiers.\n",
            "Pay attention to use only the column names you can see in the tables below. Be careful to not query for columns that do not exist. Also, pay attention to which column is in which table.\n",
            "Pay attention to use CURDATE() function to get the current date, if the question involves \"today\".\n",
            "\n",
            "Use the following format:\n",
            "\n",
            "Question: Question here\n",
            "SQLQuery: SQL Query to run\n",
            "SQLResult: Result of the SQLQuery\n",
            "Answer: Final answer here\n",
            "\n",
            "Only use the following tables:\n",
            "\u001b[33;1m\u001b[1;3m{table_info}\u001b[0m\n",
            "\n",
            "Question: \u001b[33;1m\u001b[1;3m{input}\u001b[0m\n"
          ]
        }
      ],
      "source": [
        "chain.get_prompts()[0].pretty_print()"
      ]
    },
    {
      "cell_type": "code",
      "execution_count": null,
      "id": "060c9f08-7e04-4fce-9921-b7dbe11155df",
      "metadata": {
        "id": "060c9f08-7e04-4fce-9921-b7dbe11155df",
        "outputId": "2f8a0d3e-2338-4bf1-d5e6-733687aa9104"
      },
      "outputs": [
        {
          "data": {
            "text/plain": [
              "'There are 122 actors in the database.'"
            ]
          },
          "execution_count": 10,
          "metadata": {},
          "output_type": "execute_result"
        }
      ],
      "source": [
        "from operator import itemgetter\n",
        "\n",
        "from langchain_core.output_parsers import StrOutputParser\n",
        "from langchain_core.prompts import PromptTemplate\n",
        "from langchain_core.runnables import RunnablePassthrough\n",
        "\n",
        "answer_prompt = PromptTemplate.from_template(\n",
        "    \"\"\"Given the following user question, corresponding SQL query, and SQL\n",
        "    Quesiton: {question}\n",
        "    SQL Query: {query}\n",
        "    SQL Result: {result}\n",
        "    Answer:\n",
        "    \"\"\"\n",
        ")\n",
        "\n",
        "rephrase_answer = answer_prompt | llm | StrOutputParser()\n",
        "\n",
        "chain = (\n",
        "    RunnablePassthrough.assign(query=generate_query).assign(\n",
        "        result = itemgetter(\"query\") | execute_query\n",
        "\n",
        "    )\n",
        "    | rephrase_answer\n",
        ")\n",
        "chain.invoke({\"question\": \"how may actors are there\"})"
      ]
    },
    {
      "cell_type": "code",
      "execution_count": null,
      "id": "50280eaa-322c-4e57-b171-e7745017a29a",
      "metadata": {
        "id": "50280eaa-322c-4e57-b171-e7745017a29a",
        "outputId": "830703e5-26dd-4698-c7b3-0dfe5e8e5a7a"
      },
      "outputs": [
        {
          "name": "stdout",
          "output_type": "stream",
          "text": [
            "[(200,)] SELECT COUNT(`actor_id`) AS total_actors FROM actor;\n"
          ]
        }
      ],
      "source": [
        "print(result, query)"
      ]
    },
    {
      "cell_type": "code",
      "execution_count": null,
      "id": "1991a73b-75ff-4b43-97dc-b854decb4c4d",
      "metadata": {
        "id": "1991a73b-75ff-4b43-97dc-b854decb4c4d"
      },
      "outputs": [],
      "source": [
        "\n",
        "examples = [\n",
        "    {\n",
        "        \"input\": \"List all customers in France with a credit limit over 20,000.\",\n",
        "        \"query\": \"SELECT * FROM customers WHERE country = 'France' AND creditLimit > 20000;\"\n",
        "    },\n",
        "    {\n",
        "        \"input\": \"Get the highest payment amount made by any customer.\",\n",
        "        \"query\": \"SELECT MAX(amount) FROM payments;\"\n",
        "    },\n",
        "    {\n",
        "        \"input\": \"Show product details for products in the 'Motorcycles' product line.\",\n",
        "        \"query\": \"SELECT * FROM products WHERE productLine = 'Motorcycles';\"\n",
        "    },\n",
        "    {\n",
        "        \"input\": \"Retrieve the names of employees who report to employee number 1002.\",\n",
        "        \"query\": \"SELECT firstName, lastName FROM employees WHERE reportsTo = 1002;\"\n",
        "    },\n",
        "    {\n",
        "        \"input\": \"List all products with a stock quantity less than 7000.\",\n",
        "        \"query\": \"SELECT productName, quantityInStock FROM products WHERE quantityInStock < 7000;\"\n",
        "    },\n",
        "    {\n",
        "     'input':\"what is price of `1968 Ford Mustang`\",\n",
        "     \"query\": \"SELECT `buyPrice`, `MSRP` FROM products  WHERE `productName` = '1968 Ford Mustang' LIMIT 1;\"\n",
        "    }\n",
        "]"
      ]
    },
    {
      "cell_type": "code",
      "execution_count": null,
      "id": "b9317693-0b12-4b03-abaa-a2889125d5be",
      "metadata": {
        "scrolled": true,
        "id": "b9317693-0b12-4b03-abaa-a2889125d5be",
        "outputId": "a91019ca-acff-43dc-ff53-4c72431ac4b9"
      },
      "outputs": [
        {
          "name": "stdout",
          "output_type": "stream",
          "text": [
            "Human: List all customers in France with a credit limit over 20,000.\n",
            "SQLQuery:\n",
            "AI: SELECT * FROM customers WHERE country = 'France' AND creditLimit > 20000;\n",
            "Human: Get the highest payment amount made by any customer.\n",
            "SQLQuery:\n",
            "AI: SELECT MAX(amount) FROM payments;\n",
            "Human: Show product details for products in the 'Motorcycles' product line.\n",
            "SQLQuery:\n",
            "AI: SELECT * FROM products WHERE productLine = 'Motorcycles';\n",
            "Human: Retrieve the names of employees who report to employee number 1002.\n",
            "SQLQuery:\n",
            "AI: SELECT firstName, lastName FROM employees WHERE reportsTo = 1002;\n",
            "Human: List all products with a stock quantity less than 7000.\n",
            "SQLQuery:\n",
            "AI: SELECT productName, quantityInStock FROM products WHERE quantityInStock < 7000;\n",
            "Human: what is price of `1968 Ford Mustang`\n",
            "SQLQuery:\n",
            "AI: SELECT `buyPrice`, `MSRP` FROM products  WHERE `productName` = '1968 Ford Mustang' LIMIT 1;\n"
          ]
        }
      ],
      "source": [
        "\n",
        "\n",
        "from langchain_core.prompts import ChatPromptTemplate, MessagesPlaceholder,FewShotChatMessagePromptTemplate,PromptTemplate\n",
        "\n",
        "example_prompt = ChatPromptTemplate.from_messages(\n",
        "    [\n",
        "        (\"human\", \"{input}\\nSQLQuery:\"),\n",
        "        (\"ai\", \"{query}\"),\n",
        "    ]\n",
        ")\n",
        "few_shot_prompt = FewShotChatMessagePromptTemplate(\n",
        "    example_prompt=example_prompt,\n",
        "    examples=examples,\n",
        "    # input_variables=[\"input\",\"top_k\"],\n",
        "    input_variables=[\"input\"],\n",
        ")\n",
        "print(few_shot_prompt.format(input1=\"How many products are there?\"))"
      ]
    },
    {
      "cell_type": "markdown",
      "id": "a13ef2d2-68fc-4a75-8b40-2dfe71dedfe3",
      "metadata": {
        "id": "a13ef2d2-68fc-4a75-8b40-2dfe71dedfe3"
      },
      "source": [
        "## Dynamic few-shot example selection"
      ]
    },
    {
      "cell_type": "code",
      "execution_count": null,
      "id": "e5996dd0-5db9-480b-a1fc-00f3448b35ed",
      "metadata": {
        "id": "e5996dd0-5db9-480b-a1fc-00f3448b35ed",
        "outputId": "cc8c4904-4fa6-4feb-8b4c-f07c797e374c"
      },
      "outputs": [
        {
          "data": {
            "text/plain": [
              "[{'input': 'Retrieve the names of employees who report to employee number 1002.',\n",
              "  'query': 'SELECT firstName, lastName FROM employees WHERE reportsTo = 1002;'},\n",
              " {'input': 'List all customers in France with a credit limit over 20,000.',\n",
              "  'query': \"SELECT * FROM customers WHERE country = 'France' AND creditLimit > 20000;\"}]"
            ]
          },
          "execution_count": 12,
          "metadata": {},
          "output_type": "execute_result"
        }
      ],
      "source": [
        "from langchain_community.vectorstores import Chroma\n",
        "from langchain_core.example_selectors import SemanticSimilarityExampleSelector\n",
        "from langchain_openai import OpenAIEmbeddings\n",
        "\n",
        "vectorstore = Chroma()\n",
        "vectorstore.delete_collection()\n",
        "example_selector = SemanticSimilarityExampleSelector.from_examples(\n",
        "    examples,\n",
        "    OpenAIEmbeddings(),\n",
        "    vectorstore,\n",
        "    k=2,\n",
        "    input_keys=[\"input\"],\n",
        ")\n",
        "example_selector.select_examples({\"input\": \"how many employees we have?\"})\n",
        "# example_selector.select_examples({\"input\": \"How many employees?\"})\n"
      ]
    },
    {
      "cell_type": "code",
      "execution_count": null,
      "id": "0b518c4f-f003-4920-a940-b75048140b5e",
      "metadata": {
        "id": "0b518c4f-f003-4920-a940-b75048140b5e"
      },
      "outputs": [],
      "source": [
        "# !pip install transformers==4.33.0 accelerate==0.22.0 einops==0.6.1 langchain==0.0.300 xformers==0.0.21 \\\n",
        "# bitsandbytes==0.41.1 sentence_transformers==2.2.2 chromadb==0.4.12"
      ]
    },
    {
      "cell_type": "code",
      "execution_count": null,
      "id": "2bfc5d28-7e17-490a-9098-df3826b11b85",
      "metadata": {
        "id": "2bfc5d28-7e17-490a-9098-df3826b11b85",
        "outputId": "b417f363-5080-42af-d0d6-5c9f764ea2fc"
      },
      "outputs": [
        {
          "name": "stdout",
          "output_type": "stream",
          "text": [
            "Human: List all products with a stock quantity less than 7000.\n",
            "SQLQuery:\n",
            "AI: SELECT productName, quantityInStock FROM products WHERE quantityInStock < 7000;\n",
            "Human: Show product details for products in the 'Motorcycles' product line.\n",
            "SQLQuery:\n",
            "AI: SELECT * FROM products WHERE productLine = 'Motorcycles';\n"
          ]
        }
      ],
      "source": [
        "few_shot_prompt = FewShotChatMessagePromptTemplate(\n",
        "    example_prompt=example_prompt,\n",
        "    example_selector=example_selector,\n",
        "    input_variables=['input','top_k'],\n",
        ")\n",
        "print(few_shot_prompt.format(input=\"How many products are there?\"))"
      ]
    },
    {
      "cell_type": "markdown",
      "id": "c980ae06-76dd-45d4-92b3-7fc746151b3d",
      "metadata": {
        "id": "c980ae06-76dd-45d4-92b3-7fc746151b3d"
      },
      "source": [
        "## Customizing Prompt"
      ]
    },
    {
      "cell_type": "code",
      "execution_count": null,
      "id": "b3bcbbbb-3f44-4b46-ace8-b7c997b0de91",
      "metadata": {
        "id": "b3bcbbbb-3f44-4b46-ace8-b7c997b0de91",
        "outputId": "1896ee69-479e-4430-b15c-6536b147506a"
      },
      "outputs": [
        {
          "name": "stdout",
          "output_type": "stream",
          "text": [
            "System: You are a MySQL expert. Given an input question, create a syntactically correct MySQL query to run. Unless otherwise specificed.\n",
            "\n",
            "Here is the relevant table info: some table info\n",
            "\n",
            "Below are a number of examples of questions and their corresponding SQL queries.\n",
            "Human: List all products with a stock quantity less than 7000.\n",
            "SQLQuery:\n",
            "AI: SELECT productName, quantityInStock FROM products WHERE quantityInStock < 7000;\n",
            "Human: Show product details for products in the 'Motorcycles' product line.\n",
            "SQLQuery:\n",
            "AI: SELECT * FROM products WHERE productLine = 'Motorcycles';\n",
            "Human: How many products are there?\n"
          ]
        }
      ],
      "source": [
        "final_prompt = ChatPromptTemplate.from_messages(\n",
        "    [\n",
        "\n",
        "        (\"system\", \"You are a MySQL expert. Given an input question, create a syntactically correct MySQL query to run. Unless otherwise specificed.\\n\\nHere is the relevant table info: {table_info}\\n\\nBelow are a number of examples of questions and their corresponding SQL queries.\"),\n",
        "        few_shot_prompt,\n",
        "        (\"human\", \"{input}\"),\n",
        "\n",
        "    ]\n",
        ")\n",
        "\n",
        "print(final_prompt.format(input=\"How many products are there?\",table_info=\"some table info\"))"
      ]
    },
    {
      "cell_type": "markdown",
      "id": "41f3be6a-4cec-4da9-a36c-54cc5aeb89c9",
      "metadata": {
        "id": "41f3be6a-4cec-4da9-a36c-54cc5aeb89c9"
      },
      "source": [
        "## Dynamic relevant table selection"
      ]
    },
    {
      "cell_type": "code",
      "execution_count": null,
      "id": "a111198f-d349-4ccd-886f-33e34072c294",
      "metadata": {
        "id": "a111198f-d349-4ccd-886f-33e34072c294",
        "outputId": "5f99cee4-19f1-4b0b-99b8-a94241065dc4"
      },
      "outputs": [
        {
          "name": "stdout",
          "output_type": "stream",
          "text": [
            "Table Name:productlines\n",
            "Table Description:Stores information about the different product lines offered by the company, including a unique name, textual description, HTML description, and image. Categorizes products into different lines.\n",
            "\n",
            "Table Name:products\n",
            "Table Description:Contains details of each product sold by the company, including code, name, product line, scale, vendor, description, stock quantity, buy price, and MSRP. Linked to the productlines table.\n",
            "\n",
            "Table Name:offices\n",
            "Table Description:Holds data on the company's sales offices, including office code, city, phone number, address, state, country, postal code, and territory. Each office is uniquely identified by its office code.\n",
            "\n",
            "Table Name:employees\n",
            "Table Description:Stores information about employees, including number, last name, first name, job title, contact info, and office code. Links to offices and maps organizational structure through the reportsTo attribute.\n",
            "\n",
            "Table Name:customers\n",
            "Table Description:Captures data on customers, including customer number, name, contact details, address, assigned sales rep, and credit limit. Central to managing customer relationships and sales processes.\n",
            "\n",
            "Table Name:payments\n",
            "Table Description:Records payments made by customers, tracking the customer number, check number, payment date, and amount. Linked to the customers table for financial tracking and account management.\n",
            "\n",
            "Table Name:orders\n",
            "Table Description:Details each sales order placed by customers, including order number, dates, status, comments, and customer number. Linked to the customers table, tracking sales transactions.\n",
            "\n",
            "Table Name:orderdetails\n",
            "Table Description:Describes individual line items for each sales order, including order number, product code, quantity, price, and order line number. Links orders to products, detailing the items sold.\n",
            "\n",
            "\n"
          ]
        }
      ],
      "source": [
        "from operator import itemgetter\n",
        "from langchain.chains.openai_tools import create_extraction_chain_pydantic\n",
        "from langchain_core.pydantic_v1 import BaseModel, Field\n",
        "from typing import List\n",
        "import pandas as pd\n",
        "\n",
        "def get_table_details():\n",
        "    # Read the CSV file into a DataFrame\n",
        "    table_description = pd.read_csv(\"./data/database_table_descriptions.csv\")\n",
        "    table_docs = []\n",
        "\n",
        "    # Iterate over the DataFrame rows to create Document objects\n",
        "    table_details = \"\"\n",
        "    for index, row in table_description.iterrows():\n",
        "        table_details = table_details + \"Table Name:\" + row['Table'] + \"\\n\" + \"Table Description:\" + row['Description'] + \"\\n\\n\"\n",
        "\n",
        "    return table_details\n",
        "\n",
        "\n",
        "class Table(BaseModel):\n",
        "    \"\"\"Table in SQL database.\"\"\"\n",
        "\n",
        "    name: str = Field(description=\"Name of table in SQL database.\")\n",
        "\n",
        "# table_names = \"\\n\".join(db.get_usable_table_names())\n",
        "table_details = get_table_details()\n",
        "print(table_details)"
      ]
    },
    {
      "cell_type": "code",
      "execution_count": null,
      "id": "0cd2a124-b440-4119-af46-7968ea3a04e2",
      "metadata": {
        "id": "0cd2a124-b440-4119-af46-7968ea3a04e2",
        "outputId": "ecdced3f-7633-447e-9911-cdf1f27a59d6"
      },
      "outputs": [
        {
          "name": "stderr",
          "output_type": "stream",
          "text": [
            "C:\\Users\\zulfi\\AppData\\Roaming\\Python\\Python39\\site-packages\\langchain_core\\_api\\deprecation.py:139: LangChainDeprecationWarning: LangChain has introduced a method called `with_structured_output` thatis available on ChatModels capable of tool calling.You can read more about the method here: <https://python.langchain.com/docs/modules/model_io/chat/structured_output/>. Please follow our extraction use case documentation for more guidelineson how to do information extraction with LLMs.<https://python.langchain.com/docs/use_cases/extraction/>. with_structured_output does not currently support a list of pydantic schemas. If this is a blocker or if you notice other issues, please provide feedback here:<https://github.com/langchain-ai/langchain/discussions/18154>\n",
            "  warn_deprecated(\n"
          ]
        },
        {
          "data": {
            "text/plain": [
              "[Table(name='customers'), Table(name='orders')]"
            ]
          },
          "execution_count": 19,
          "metadata": {},
          "output_type": "execute_result"
        }
      ],
      "source": [
        "table_details_prompt = f\"\"\"Return the names of ALL the SQL tables that MIGHT be relevant to the user question. \\\n",
        "The tables are:\n",
        "\n",
        "{table_details}\n",
        "\n",
        "Remember to include ALL POTENTIALLY RELEVANT tables, even if you're not sure that they're needed.\"\"\"\n",
        "\n",
        "table_chain = create_extraction_chain_pydantic(Table, llm, system_message=table_details_prompt)\n",
        "tables = table_chain.invoke({\"input\": \"give me details of customer and their order count\"})\n",
        "tables"
      ]
    },
    {
      "cell_type": "code",
      "execution_count": null,
      "id": "bac1a454-0f73-4853-b1b9-f785a633fdef",
      "metadata": {
        "id": "bac1a454-0f73-4853-b1b9-f785a633fdef",
        "outputId": "46ba393d-74a3-4112-c170-37ec4b15bcdf"
      },
      "outputs": [
        {
          "data": {
            "text/plain": [
              "['customers', 'orders']"
            ]
          },
          "execution_count": 21,
          "metadata": {},
          "output_type": "execute_result"
        }
      ],
      "source": [
        "def get_tables(tables: List[Table]) -> List[str]:\n",
        "    tables  = [table.name for table in tables]\n",
        "    return tables\n",
        "\n",
        "select_table = {\"input\": itemgetter(\"question\")} | create_extraction_chain_pydantic(Table, llm, system_message=table_details_prompt) | get_tables\n",
        "select_table.invoke({\"question\": \"give me details of customer and their order count\"})\n",
        ""
      ]
    },
    {
      "cell_type": "code",
      "execution_count": null,
      "id": "18dc9064-6fcf-477e-b36a-2eaf4371c480",
      "metadata": {
        "id": "18dc9064-6fcf-477e-b36a-2eaf4371c480",
        "outputId": "bf70dc27-a3ef-4749-ff4c-2ef46f384fa1"
      },
      "outputs": [
        {
          "data": {
            "text/plain": [
              "'There are 2 customers with more than 5 orders.'"
            ]
          },
          "execution_count": 22,
          "metadata": {},
          "output_type": "execute_result"
        }
      ],
      "source": [
        "chain = (\n",
        "RunnablePassthrough.assign(table_names_to_use=select_table) |\n",
        "RunnablePassthrough.assign(query=generate_query).assign(\n",
        "    result=itemgetter(\"query\") | execute_query\n",
        ")\n",
        "| rephrase_answer\n",
        ")\n",
        "chain.invoke({\"question\": \"How many cutomers with order count more than 5\"})"
      ]
    },
    {
      "cell_type": "code",
      "execution_count": null,
      "id": "ab986805-af70-4841-8eea-259b2c7cff5f",
      "metadata": {
        "id": "ab986805-af70-4841-8eea-259b2c7cff5f",
        "outputId": "c6fdd53c-264c-489d-f7aa-3c14d7bc07a9"
      },
      "outputs": [
        {
          "data": {
            "text/plain": [
              "\"Atelier graphique, Signal Gift Stores, Australian Collectors, Co., La Rochelle Gifts, Baane Mini Imports, Mini Gifts Distributors Ltd., Havel & Zbyszek Co, Blauer See Auto, Co., Mini Wheels Co., Land of Toys Inc., Euro+ Shopping Channel, Volvo Model Replicas, Co, Danish Wholesale Imports, Saveley & Henriot, Co., Dragon Souveniers, Ltd., Muscle Machine Inc, Diecast Classics Inc., Technics Stores Inc., Handji Gifts& Co, Herkku Gifts, American Souvenirs Inc, Porto Imports Co., Daedalus Designs Imports, La Corne D'abondance, Co., Cambridge Collectables Co., Gift Depot Inc., Osaka Souveniers Co., Vitachrome Inc., Toys of Finland, Co., AV Stores, Co., Clover Collections, Co., Auto-Moto Classics Inc., UK Collectables, Ltd., Canadian Gift Exchange Network, Online Mini Collectables, Toys4GrownUps.com, Asian Shopping Network, Co, Mini Caravy, King Kong Collectables, Co., Enaco Distributors, Boards & Toys Co., Nat├╝rlich Autos, Heintze Collectables, Qu├®bec Home Shopping Network, ANG Resellers, Collectable Mini Designs Co., giftsbymail.co.uk, Alpha Cognac, Messner Shopping Network, Amica Models & Co., Lyon Souveniers, Auto Associ├®s & Cie., Toms Spezialit├ñten, Ltd, Royal Canadian Collectables, Ltd., Franken Gifts, Co, Anna's Decorations, Ltd, Rovelli Gifts, Souveniers And Things Co., Marta's Replicas Co., BG&E Collectables, Vida Sport, Ltd, Norway Gifts By Mail, Co., Schuyler Imports, Der Hund Imports, Oulu Toy Supplies, Inc., Petit Auto, Mini Classics, Mini Creations Ltd., Corporate Gift Ideas Co., Down Under Souveniers, Inc, Stylish Desk Decors, Co., Tekni Collectables Inc., Australian Gift Network, Co, Suominen Souveniers, Cramer Spezialit├ñten, Ltd, Classic Gift Ideas, Inc, CAF Imports, Men 'R' US Retailers, Ltd., Asian Treasures, Inc., Marseille Mini Autos, Reims Collectables, SAR Distributors, Co, GiftsForHim.com, Kommission Auto, Gifts4AllAges.com, Online Diecast Creations Co., Lisboa Souveniers, Inc, Precious Collectables, Collectables For Less Inc., Royale Belge, Salzburg Collectables, Cruz & Sons Co., L'ordine Souveniers, Tokyo Collectables, Ltd, Auto Canal+ Petit, Stuttgart Collectable Exchange, Extreme Desk Decorations, Ltd, Bavarian Collectables Imports, Co., Classic Legends Inc., Feuer Online Stores, Inc, Gift Ideas Corp., Scandinavian Gift Ideas, The Sharp Gifts Warehouse, Mini Auto Werke, Super Scale Inc., Microscale Inc., Corrida Auto Replicas, Ltd, Warburg Exchange, FunGiftIdeas.com, Anton Designs, Ltd., Australian Collectables, Ltd, Frau da Collezione, West Coast Collectables Co., Mit Vergn├╝gen & Co., Kremlin Collectables, Co., Raanan Stores, Inc, Iberia Gift Imports, Corp., Motor Mint Distributors Inc., Signal Collectibles Ltd., Double Decker Gift Stores, Ltd, Diecast Collectables, Kelly's Gift Shop\""
            ]
          },
          "execution_count": 23,
          "metadata": {},
          "output_type": "execute_result"
        }
      ],
      "source": [
        "chain.invoke({\"question\": \"Can you list their names?\"})"
      ]
    },
    {
      "cell_type": "markdown",
      "id": "4fa91420-92fd-43d7-984e-bd452b2dcae7",
      "metadata": {
        "id": "4fa91420-92fd-43d7-984e-bd452b2dcae7"
      },
      "source": [
        "## Adding memory to the chatbot so that it answers follow-up\n",
        "## questions related to the database."
      ]
    },
    {
      "cell_type": "code",
      "execution_count": null,
      "id": "7fdcbb77-ae1c-4439-ab86-5efafca00629",
      "metadata": {
        "id": "7fdcbb77-ae1c-4439-ab86-5efafca00629"
      },
      "outputs": [],
      "source": [
        "final_prompt = ChatPromptTemplate.from_messages(\n",
        "    [\n",
        "        (\"system\", \"You are a MySQL expert. Given an input question, create a syntactically correct MySQL query to run. Unless otherwise specificed.\\n\\nHere is the relevant table info: {table_info}\\n\\nBelow are a number of examples of questions and their corresponding SQL queries. Those examples are just for referecne and hsould be considered while answering follow up questions\"),\n",
        "        few_shot_prompt,\n",
        "        MessagesPlaceholder(variable_name=\"messages\"),\n",
        "        (\"human\", \"{input}\"),\n",
        "    ]\n",
        ")\n",
        "#print(final_prompt.format(input=\"How many products are there?\",table_info=\"some table info\",messages=[]))\n",
        ""
      ]
    },
    {
      "cell_type": "code",
      "execution_count": null,
      "id": "c94a9a13-79ee-4842-97ad-2eecf7f6a94f",
      "metadata": {
        "id": "c94a9a13-79ee-4842-97ad-2eecf7f6a94f"
      },
      "outputs": [],
      "source": [
        "from langchain.memory import ChatMessageHistory\n",
        "history = ChatMessageHistory()\n",
        "generate_query = create_sql_query_chain(llm,db,final_prompt)\n",
        "\n",
        "chain = (\n",
        "RunnablePassthrough.assign(table_names_to_use=select_table) |\n",
        "RunnablePassthrough.assign(query=generate_query).assign(\n",
        "    result=itemgetter(\"query\") | execute_query\n",
        ")\n",
        "| rephrase_answer\n",
        ")\n"
      ]
    },
    {
      "cell_type": "code",
      "execution_count": null,
      "id": "9f2bea6d-b5d9-4905-bdca-3d68efb0092b",
      "metadata": {
        "id": "9f2bea6d-b5d9-4905-bdca-3d68efb0092b",
        "outputId": "3d53b28e-3aea-4a7a-99fb-07d7fd02ad9f"
      },
      "outputs": [
        {
          "data": {
            "text/plain": [
              "'There are 2 customers with an order count of more than 5.'"
            ]
          },
          "execution_count": 26,
          "metadata": {},
          "output_type": "execute_result"
        }
      ],
      "source": [
        "question = \"How many customers with order count more than 5\"\n",
        "response = chain.invoke({\"question\": question, \"messages\":history.messages})\n",
        "response"
      ]
    },
    {
      "cell_type": "code",
      "execution_count": null,
      "id": "1bf5b28f-92a0-43a5-bee3-553bb6b3fea0",
      "metadata": {
        "id": "1bf5b28f-92a0-43a5-bee3-553bb6b3fea0"
      },
      "outputs": [],
      "source": [
        "\n",
        "history.add_user_message(question)\n",
        "history.add_ai_message(response)"
      ]
    },
    {
      "cell_type": "code",
      "execution_count": null,
      "id": "16a24042-844f-4cb7-a518-4a0d4a8ca0d7",
      "metadata": {
        "id": "16a24042-844f-4cb7-a518-4a0d4a8ca0d7",
        "outputId": "e03c21b8-8cef-4f62-df31-f44c8c8daed8"
      },
      "outputs": [
        {
          "data": {
            "text/plain": [
              "[HumanMessage(content='How many customers with order count more than 5'),\n",
              " AIMessage(content='There are 2 customers with an order count of more than 5.')]"
            ]
          },
          "execution_count": 28,
          "metadata": {},
          "output_type": "execute_result"
        }
      ],
      "source": [
        "\n",
        "history.messages"
      ]
    },
    {
      "cell_type": "code",
      "execution_count": null,
      "id": "614456a9-84c3-49ad-9b35-ad2f837dbb54",
      "metadata": {
        "id": "614456a9-84c3-49ad-9b35-ad2f837dbb54",
        "outputId": "69bbb295-ebed-4c67-eb45-911670712a44"
      },
      "outputs": [
        {
          "data": {
            "text/plain": [
              "\"The names listed are 'Mini Gifts Distributors Ltd.' and 'Euro+ Shopping Channel'.\""
            ]
          },
          "execution_count": 29,
          "metadata": {},
          "output_type": "execute_result"
        }
      ],
      "source": [
        "response = chain.invoke({\"question\": \"Can you list there names?\",\"messages\":history.messages})\n",
        "response"
      ]
    },
    {
      "cell_type": "code",
      "execution_count": null,
      "id": "6d89d830-378e-42c4-a748-f1851a7c9d32",
      "metadata": {
        "id": "6d89d830-378e-42c4-a748-f1851a7c9d32"
      },
      "outputs": [],
      "source": []
    },
    {
      "cell_type": "code",
      "execution_count": null,
      "id": "24240b9e-0f2e-433b-8b15-1470382fb28b",
      "metadata": {
        "id": "24240b9e-0f2e-433b-8b15-1470382fb28b"
      },
      "outputs": [],
      "source": []
    },
    {
      "cell_type": "code",
      "execution_count": null,
      "id": "947e69c4-87ac-43a5-b0a5-be6a81e9a1e6",
      "metadata": {
        "id": "947e69c4-87ac-43a5-b0a5-be6a81e9a1e6"
      },
      "outputs": [],
      "source": []
    },
    {
      "cell_type": "code",
      "execution_count": null,
      "id": "f4e863d5-3acc-4e42-b01d-e6021e08ed97",
      "metadata": {
        "id": "f4e863d5-3acc-4e42-b01d-e6021e08ed97"
      },
      "outputs": [],
      "source": []
    }
  ],
  "metadata": {
    "kernelspec": {
      "display_name": "promptenv",
      "language": "python",
      "name": "promptenv"
    },
    "language_info": {
      "codemirror_mode": {
        "name": "ipython",
        "version": 3
      },
      "file_extension": ".py",
      "mimetype": "text/x-python",
      "name": "python",
      "nbconvert_exporter": "python",
      "pygments_lexer": "ipython3",
      "version": "3.9.19"
    },
    "colab": {
      "provenance": [],
      "include_colab_link": true
    }
  },
  "nbformat": 4,
  "nbformat_minor": 5
}